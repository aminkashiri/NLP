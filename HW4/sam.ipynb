{
 "cells": [
  {
   "cell_type": "markdown",
   "metadata": {},
   "source": [
    "# Import Required Libraries\n",
    "\n",
    "In this project, we use **transformers** library (from **huggingface.co**) to use the pre-trained **BERT** base model. We use BERT and RoBERTa models for English and BERT and ALBERT models for Persian.\n"
   ]
  },
  {
   "cell_type": "code",
   "execution_count": null,
   "metadata": {},
   "outputs": [],
   "source": [
    "import editdistance\n",
    "import pandas as pd\n",
    "import string\n",
    "\n",
    "from spacy.lang.fa import Persian\n",
    "from spacy.lang.en import English\n",
    "from spellchecker import SpellChecker\n",
    "from transformers import (\n",
    "    pipeline,\n",
    "    BertTokenizer,\n",
    "    BertForMaskedLM,\n",
    "    AlbertTokenizer,\n",
    "    AlbertForMaskedLM,\n",
    "    RobertaTokenizer,\n",
    "    RobertaModel,\n",
    ")\n",
    "\n",
    "from spacy.tokens.token import Token"
   ]
  }
 ],
 "metadata": {
  "interpreter": {
   "hash": "34daa296ffe99e8a66e159d01b1dfeb9a87967b5cca691fda43c054f03617153"
  },
  "kernelspec": {
   "display_name": "Python 3.10.4 ('data_env')",
   "language": "python",
   "name": "python3"
  },
  "language_info": {
   "name": "python",
   "version": "3.10.4"
  },
  "orig_nbformat": 4
 },
 "nbformat": 4,
 "nbformat_minor": 2
}
