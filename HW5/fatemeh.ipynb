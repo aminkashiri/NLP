{
 "cells": [
  {
   "cell_type": "code",
   "execution_count": 62,
   "metadata": {},
   "outputs": [
    {
     "name": "stdout",
     "output_type": "stream",
     "text": [
      "نشان درجه یک هنری استاد «محمدرضا اسحاقی» اخذ شد/درصدد رفع مشکلات معیشتی هنرمندان موسیقی هستیم\n",
      "[{'name': 'PER', 'range': [25, 39]}]\n"
     ]
    }
   ],
   "source": [
    "from email import header\n",
    "import json\n",
    "k = 1\n",
    "header = 'header'\n",
    "# header = 'text'\n",
    "with open('dataset_annotated_splited.json') as f:\n",
    "    data = json.load(f)\n",
    "    sample_text = data['train'][k][header]\n",
    "    sample_label = data['train'][k]['annotations'][0][header]\n",
    "    print(sample_text)\n",
    "    print(sample_label)"
   ]
  },
  {
   "cell_type": "code",
   "execution_count": 63,
   "metadata": {},
   "outputs": [
    {
     "name": "stdout",
     "output_type": "stream",
     "text": [
      "{'NAT': 0, 'PER': 1, 'TIM': 2, 'LOC': 3, 'mainLOC': 4, 'DAT': 5, 'ORG': 6, 'EVE': 7}\n"
     ]
    }
   ],
   "source": [
    "label_list = {'ORG','PER','DAT','TIM','LOC','EVE','mainLOC','NAT'}\n",
    "labels_to_ids = {k: v for v, k in enumerate(label_list)}\n",
    "print(labels_to_ids)"
   ]
  },
  {
   "cell_type": "code",
   "execution_count": 64,
   "metadata": {},
   "outputs": [
    {
     "name": "stdout",
     "output_type": "stream",
     "text": [
      "['نشان', 'درجه', 'یک', 'هنری', 'استاد', '«محمدرضا', 'اسحاقی»', 'اخذ', 'شد/درصدد', 'رفع', 'مشکلات', 'معیشتی', 'هنرمندان', 'موسیقی', 'هستیم']\n",
      "[5, 10, 13, 18, 24, 33, 41, 45, 54, 58, 65, 72, 81, 88, 94]\n"
     ]
    }
   ],
   "source": [
    "words = sample_text.split()\n",
    "n = len(words)\n",
    "final_labels = [0]*n\n",
    "print(words)\n",
    "length_list = [0]*n\n",
    "length_list[0]=len(words[0])+1\n",
    "for i in range(1,n):\n",
    "    length_list[i] = length_list[i-1]+len(words[i])+1\n",
    "print(length_list)"
   ]
  },
  {
   "cell_type": "code",
   "execution_count": 65,
   "metadata": {},
   "outputs": [
    {
     "name": "stdout",
     "output_type": "stream",
     "text": [
      "نشان \n",
      "نشان---->0 : 5\n",
      "درجه \n",
      "درجه---->0 : 10\n",
      "یک \n",
      "یک---->0 : 13\n",
      "هنری \n",
      "هنری---->0 : 18\n",
      "استاد \n",
      "استاد---->0 : 24\n",
      "«محمدرضا \n",
      "«محمدرضا---->1 : 33\n",
      "اسحاقی» \n",
      "اسحاقی»---->0 : 41\n",
      "اخذ \n",
      "اخذ---->0 : 45\n",
      "شد/درصدد \n",
      "شد/درصدد---->0 : 54\n",
      "رفع \n",
      "رفع---->0 : 58\n",
      "مشکلات \n",
      "مشکلات---->0 : 65\n",
      "معیشتی \n",
      "معیشتی---->0 : 72\n",
      "هنرمندان \n",
      "هنرمندان---->0 : 81\n",
      "موسیقی \n",
      "موسیقی---->0 : 88\n",
      "هستیم\n",
      "هستیم---->0 : 94\n"
     ]
    }
   ],
   "source": [
    "word_index = 0\n",
    "for label in sample_label:\n",
    "    interval = label['range']\n",
    "    label_id = labels_to_ids[label['name']]\n",
    "    # print(sample_text[interval[0]:interval[1]])\n",
    "    while length_list[word_index]<= interval[0]:\n",
    "        word_index+=1\n",
    "    # print(word_index)\n",
    "    while length_list[word_index]< interval[1]:\n",
    "        final_labels[word_index] = label_id\n",
    "        word_index+=1\n",
    "    # if word_index < n and not length_list[word_index]== interval[1]+1:\n",
    "    #     final_labels[word_index] = label_id\n",
    "    #     word_index+=1\n",
    "    # if word_index == n:\n",
    "    #     break\n",
    "# print(final_labels)\n",
    "start = 0\n",
    "for i in range(0,n):\n",
    "    print(sample_text[start:length_list[i]])\n",
    "    start = length_list[i]\n",
    "    print(str(words[i])+'---->'+str(final_labels[i])+' : '+str(length_list[i]))"
   ]
  }
 ],
 "metadata": {
  "kernelspec": {
   "display_name": "Python 3.8.10 64-bit",
   "language": "python",
   "name": "python3"
  },
  "language_info": {
   "codemirror_mode": {
    "name": "ipython",
    "version": 3
   },
   "file_extension": ".py",
   "mimetype": "text/x-python",
   "name": "python",
   "nbconvert_exporter": "python",
   "pygments_lexer": "ipython3",
   "version": "3.8.10"
  },
  "orig_nbformat": 4,
  "vscode": {
   "interpreter": {
    "hash": "31f2aee4e71d21fbe5cf8b01ff0e069b9275f58929596ceb00d14d90e3e16cd6"
   }
  }
 },
 "nbformat": 4,
 "nbformat_minor": 2
}
