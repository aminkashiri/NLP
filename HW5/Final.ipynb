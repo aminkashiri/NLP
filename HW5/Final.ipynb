{
  "cells": [
    {
      "cell_type": "markdown",
      "source": [
        "## Group 1\n",
        "\n",
        "## Alireza Mousavizadeh - 97106284\n",
        "\n",
        "## Fatemeh Tohidian - 97100354\n",
        "\n",
        "## Amin Kashiri - 97101026"
      ],
      "metadata": {
        "id": "kgfuam-PjmSM"
      }
    },
    {
      "cell_type": "markdown",
      "source": [
        "# Initialization"
      ],
      "metadata": {
        "id": "Pjv4EN2tkOfI"
      }
    },
    {
      "cell_type": "markdown",
      "source": [
        "### Install Packages\n",
        "\n",
        "install required packages using requirement.txt file."
      ],
      "metadata": {
        "id": "xILwINHKQLmi"
      }
    },
    {
      "cell_type": "code",
      "source": [
        "!pip install transformers\n",
        "!pip install tqdm\n",
        "!pip install torch\n",
        "!pip install evaluate"
      ],
      "metadata": {
        "colab": {
          "base_uri": "https://localhost:8080/"
        },
        "id": "1rOPpH9ctSyt",
        "outputId": "4ed1aab5-185d-4cc8-cc21-e442fc9cbe05"
      },
      "execution_count": 1,
      "outputs": [
        {
          "output_type": "stream",
          "name": "stdout",
          "text": [
            "Looking in indexes: https://pypi.org/simple, https://us-python.pkg.dev/colab-wheels/public/simple/\n",
            "Requirement already satisfied: transformers in /usr/local/lib/python3.7/dist-packages (4.21.0)\n",
            "Requirement already satisfied: filelock in /usr/local/lib/python3.7/dist-packages (from transformers) (3.7.1)\n",
            "Requirement already satisfied: regex!=2019.12.17 in /usr/local/lib/python3.7/dist-packages (from transformers) (2022.6.2)\n",
            "Requirement already satisfied: huggingface-hub<1.0,>=0.1.0 in /usr/local/lib/python3.7/dist-packages (from transformers) (0.8.1)\n",
            "Requirement already satisfied: tokenizers!=0.11.3,<0.13,>=0.11.1 in /usr/local/lib/python3.7/dist-packages (from transformers) (0.12.1)\n",
            "Requirement already satisfied: requests in /usr/local/lib/python3.7/dist-packages (from transformers) (2.23.0)\n",
            "Requirement already satisfied: importlib-metadata in /usr/local/lib/python3.7/dist-packages (from transformers) (4.12.0)\n",
            "Requirement already satisfied: tqdm>=4.27 in /usr/local/lib/python3.7/dist-packages (from transformers) (4.64.0)\n",
            "Requirement already satisfied: pyyaml>=5.1 in /usr/local/lib/python3.7/dist-packages (from transformers) (6.0)\n",
            "Requirement already satisfied: packaging>=20.0 in /usr/local/lib/python3.7/dist-packages (from transformers) (21.3)\n",
            "Requirement already satisfied: numpy>=1.17 in /usr/local/lib/python3.7/dist-packages (from transformers) (1.21.6)\n",
            "Requirement already satisfied: typing-extensions>=3.7.4.3 in /usr/local/lib/python3.7/dist-packages (from huggingface-hub<1.0,>=0.1.0->transformers) (4.1.1)\n",
            "Requirement already satisfied: pyparsing!=3.0.5,>=2.0.2 in /usr/local/lib/python3.7/dist-packages (from packaging>=20.0->transformers) (3.0.9)\n",
            "Requirement already satisfied: zipp>=0.5 in /usr/local/lib/python3.7/dist-packages (from importlib-metadata->transformers) (3.8.1)\n",
            "Requirement already satisfied: urllib3!=1.25.0,!=1.25.1,<1.26,>=1.21.1 in /usr/local/lib/python3.7/dist-packages (from requests->transformers) (1.25.11)\n",
            "Requirement already satisfied: idna<3,>=2.5 in /usr/local/lib/python3.7/dist-packages (from requests->transformers) (2.10)\n",
            "Requirement already satisfied: chardet<4,>=3.0.2 in /usr/local/lib/python3.7/dist-packages (from requests->transformers) (3.0.4)\n",
            "Requirement already satisfied: certifi>=2017.4.17 in /usr/local/lib/python3.7/dist-packages (from requests->transformers) (2022.6.15)\n",
            "Looking in indexes: https://pypi.org/simple, https://us-python.pkg.dev/colab-wheels/public/simple/\n",
            "Requirement already satisfied: tqdm in /usr/local/lib/python3.7/dist-packages (4.64.0)\n",
            "Looking in indexes: https://pypi.org/simple, https://us-python.pkg.dev/colab-wheels/public/simple/\n",
            "Requirement already satisfied: torch in /usr/local/lib/python3.7/dist-packages (1.12.0+cu113)\n",
            "Requirement already satisfied: typing-extensions in /usr/local/lib/python3.7/dist-packages (from torch) (4.1.1)\n",
            "Looking in indexes: https://pypi.org/simple, https://us-python.pkg.dev/colab-wheels/public/simple/\n",
            "Requirement already satisfied: evaluate in /usr/local/lib/python3.7/dist-packages (0.2.2)\n",
            "Requirement already satisfied: dill in /usr/local/lib/python3.7/dist-packages (from evaluate) (0.3.5.1)\n",
            "Requirement already satisfied: requests>=2.19.0 in /usr/local/lib/python3.7/dist-packages (from evaluate) (2.23.0)\n",
            "Requirement already satisfied: datasets>=2.0.0 in /usr/local/lib/python3.7/dist-packages (from evaluate) (2.4.0)\n",
            "Requirement already satisfied: packaging in /usr/local/lib/python3.7/dist-packages (from evaluate) (21.3)\n",
            "Requirement already satisfied: multiprocess in /usr/local/lib/python3.7/dist-packages (from evaluate) (0.70.13)\n",
            "Requirement already satisfied: xxhash in /usr/local/lib/python3.7/dist-packages (from evaluate) (3.0.0)\n",
            "Requirement already satisfied: fsspec[http]>=2021.05.0 in /usr/local/lib/python3.7/dist-packages (from evaluate) (2022.7.1)\n",
            "Requirement already satisfied: importlib-metadata in /usr/local/lib/python3.7/dist-packages (from evaluate) (4.12.0)\n",
            "Requirement already satisfied: numpy>=1.17 in /usr/local/lib/python3.7/dist-packages (from evaluate) (1.21.6)\n",
            "Requirement already satisfied: tqdm>=4.62.1 in /usr/local/lib/python3.7/dist-packages (from evaluate) (4.64.0)\n",
            "Requirement already satisfied: responses<0.19 in /usr/local/lib/python3.7/dist-packages (from evaluate) (0.18.0)\n",
            "Requirement already satisfied: huggingface-hub>=0.7.0 in /usr/local/lib/python3.7/dist-packages (from evaluate) (0.8.1)\n",
            "Requirement already satisfied: pandas in /usr/local/lib/python3.7/dist-packages (from evaluate) (1.3.5)\n",
            "Requirement already satisfied: pyarrow>=6.0.0 in /usr/local/lib/python3.7/dist-packages (from datasets>=2.0.0->evaluate) (6.0.1)\n",
            "Requirement already satisfied: aiohttp in /usr/local/lib/python3.7/dist-packages (from datasets>=2.0.0->evaluate) (3.8.1)\n",
            "Requirement already satisfied: filelock in /usr/local/lib/python3.7/dist-packages (from huggingface-hub>=0.7.0->evaluate) (3.7.1)\n",
            "Requirement already satisfied: pyyaml>=5.1 in /usr/local/lib/python3.7/dist-packages (from huggingface-hub>=0.7.0->evaluate) (6.0)\n",
            "Requirement already satisfied: typing-extensions>=3.7.4.3 in /usr/local/lib/python3.7/dist-packages (from huggingface-hub>=0.7.0->evaluate) (4.1.1)\n",
            "Requirement already satisfied: pyparsing!=3.0.5,>=2.0.2 in /usr/local/lib/python3.7/dist-packages (from packaging->evaluate) (3.0.9)\n",
            "Requirement already satisfied: chardet<4,>=3.0.2 in /usr/local/lib/python3.7/dist-packages (from requests>=2.19.0->evaluate) (3.0.4)\n",
            "Requirement already satisfied: urllib3!=1.25.0,!=1.25.1,<1.26,>=1.21.1 in /usr/local/lib/python3.7/dist-packages (from requests>=2.19.0->evaluate) (1.25.11)\n",
            "Requirement already satisfied: certifi>=2017.4.17 in /usr/local/lib/python3.7/dist-packages (from requests>=2.19.0->evaluate) (2022.6.15)\n",
            "Requirement already satisfied: idna<3,>=2.5 in /usr/local/lib/python3.7/dist-packages (from requests>=2.19.0->evaluate) (2.10)\n",
            "Requirement already satisfied: yarl<2.0,>=1.0 in /usr/local/lib/python3.7/dist-packages (from aiohttp->datasets>=2.0.0->evaluate) (1.7.2)\n",
            "Requirement already satisfied: attrs>=17.3.0 in /usr/local/lib/python3.7/dist-packages (from aiohttp->datasets>=2.0.0->evaluate) (21.4.0)\n",
            "Requirement already satisfied: charset-normalizer<3.0,>=2.0 in /usr/local/lib/python3.7/dist-packages (from aiohttp->datasets>=2.0.0->evaluate) (2.1.0)\n",
            "Requirement already satisfied: asynctest==0.13.0 in /usr/local/lib/python3.7/dist-packages (from aiohttp->datasets>=2.0.0->evaluate) (0.13.0)\n",
            "Requirement already satisfied: multidict<7.0,>=4.5 in /usr/local/lib/python3.7/dist-packages (from aiohttp->datasets>=2.0.0->evaluate) (6.0.2)\n",
            "Requirement already satisfied: frozenlist>=1.1.1 in /usr/local/lib/python3.7/dist-packages (from aiohttp->datasets>=2.0.0->evaluate) (1.3.0)\n",
            "Requirement already satisfied: aiosignal>=1.1.2 in /usr/local/lib/python3.7/dist-packages (from aiohttp->datasets>=2.0.0->evaluate) (1.2.0)\n",
            "Requirement already satisfied: async-timeout<5.0,>=4.0.0a3 in /usr/local/lib/python3.7/dist-packages (from aiohttp->datasets>=2.0.0->evaluate) (4.0.2)\n",
            "Requirement already satisfied: zipp>=0.5 in /usr/local/lib/python3.7/dist-packages (from importlib-metadata->evaluate) (3.8.1)\n",
            "Requirement already satisfied: python-dateutil>=2.7.3 in /usr/local/lib/python3.7/dist-packages (from pandas->evaluate) (2.8.2)\n",
            "Requirement already satisfied: pytz>=2017.3 in /usr/local/lib/python3.7/dist-packages (from pandas->evaluate) (2022.1)\n",
            "Requirement already satisfied: six>=1.5 in /usr/local/lib/python3.7/dist-packages (from python-dateutil>=2.7.3->pandas->evaluate) (1.15.0)\n"
          ]
        }
      ]
    },
    {
      "cell_type": "markdown",
      "source": [
        "### Import Libraries"
      ],
      "metadata": {
        "id": "qN5z92j_QfUp"
      }
    },
    {
      "cell_type": "code",
      "source": [
        "import torch\n",
        "import json\n",
        "import evaluate as e\n",
        "from google.colab import drive\n",
        "from transformers import AutoTokenizer, BertForTokenClassification\n",
        "from torch.utils.data import DataLoader\n",
        "from tqdm import tqdm\n",
        "from torch.optim import SGD"
      ],
      "metadata": {
        "id": "dsQiuyv6Qi-f"
      },
      "execution_count": 1,
      "outputs": []
    },
    {
      "cell_type": "markdown",
      "source": [
        "### Check whether cuda is available\n",
        "\n",
        "Check whether cuda is available and based on this, device object is built that is used in for pytorch tensors computation."
      ],
      "metadata": {
        "id": "2qF4bqKjQuhD"
      }
    },
    {
      "cell_type": "code",
      "source": [
        "use_cuda = torch.cuda.is_available()\n",
        "device = torch.device(\"cuda\" if use_cuda else \"cpu\")"
      ],
      "metadata": {
        "id": "_NQRW2bwcJul"
      },
      "execution_count": 2,
      "outputs": []
    },
    {
      "cell_type": "code",
      "source": [
        "drive.mount(\"/content/drive\")"
      ],
      "metadata": {
        "colab": {
          "base_uri": "https://localhost:8080/"
        },
        "id": "Hlxi3HzprrpJ",
        "outputId": "3157b7c4-1b05-4e02-af22-e1b34c0104af"
      },
      "execution_count": 3,
      "outputs": [
        {
          "output_type": "stream",
          "name": "stdout",
          "text": [
            "Drive already mounted at /content/drive; to attempt to forcibly remount, call drive.mount(\"/content/drive\", force_remount=True).\n"
          ]
        }
      ]
    },
    {
      "cell_type": "markdown",
      "source": [
        "### Hyper-Parameter Setting\n",
        "\n",
        "In this section, hyper-parameters that used in bert fine-tuning are defined. hyper-parameter optimization (HPO) will be done in the next parts.\n",
        "\n",
        "TODO: HPO"
      ],
      "metadata": {
        "id": "P1Ifda76RCPI"
      }
    },
    {
      "cell_type": "code",
      "source": [
        "MAX_LEN = 512\n",
        "LEARNING_RATE = 1e-2\n",
        "EPOCHS = 5\n",
        "BATCH_SIZE = 4\n",
        "BIO = True"
      ],
      "metadata": {
        "id": "C1DqfQLTHNyy"
      },
      "execution_count": 4,
      "outputs": []
    },
    {
      "cell_type": "markdown",
      "source": [
        "# Load Data\n",
        "\n",
        "load train, validation, test dataset with json."
      ],
      "metadata": {
        "id": "5_DFsqpsQ1uE"
      }
    },
    {
      "cell_type": "code",
      "source": [
        "# path = \"/content/drive/MyDrive/Colab Notebooks/dataset_annotated_splited.json\"\n",
        "path = \"/content/drive/MyDrive/NLP/HW5/dataset_annotated_splited.json\"\n",
        "with open(path, \"r\") as f:\n",
        "    data = json.load(f)\n",
        "    train_data = data[\"train\"]\n",
        "    test_data = data[\"test\"]\n",
        "    val_data = data[\"eval\"]\n",
        "\n",
        "print(train_data[0].keys())\n",
        "print(train_data[0]['annotations'])"
      ],
      "metadata": {
        "colab": {
          "base_uri": "https://localhost:8080/"
        },
        "id": "GCLWn714wsYA",
        "outputId": "3bafc21c-3726-4a83-cba3-598798d1d636"
      },
      "execution_count": 5,
      "outputs": [
        {
          "output_type": "stream",
          "name": "stdout",
          "text": [
            "dict_keys(['header', 'text', 'annotations'])\n",
            "[{'header': [{'name': 'DAT', 'range': [27, 37]}], 'text': [{'name': 'ORG', 'range': [9, 24]}, {'name': 'ORG', 'range': [32, 49]}, {'name': 'PER', 'range': [51, 62]}, {'name': 'ORG', 'range': [68, 79]}, {'name': 'ORG', 'range': [153, 164]}, {'name': 'PER', 'range': [210, 222]}, {'name': 'DAT', 'range': [269, 280]}, {'name': 'ORG', 'range': [349, 360]}, {'name': 'PER', 'range': [369, 375]}, {'name': 'PER', 'range': [414, 426]}, {'name': 'TIM', 'range': [478, 485]}, {'name': 'DAT', 'range': [465, 470]}, {'name': 'ORG', 'range': [510, 521]}]}, {'header': [], 'text': [{'name': 'PER', 'range': [51, 62]}, {'name': 'PER', 'range': [210, 222]}, {'name': 'PER', 'range': [369, 375]}, {'name': 'PER', 'range': [414, 426]}]}]\n"
          ]
        }
      ]
    },
    {
      "cell_type": "markdown",
      "source": [
        "### Label to ID Mapping\n",
        "\n",
        "In this section, labels to ids and ids to labels are built for next usage in bert fine-tuning training."
      ],
      "metadata": {
        "id": "pAe0OTK6Q6eP"
      }
    },
    {
      "cell_type": "code",
      "source": [
        "if BIO:\n",
        "    label_list = [\n",
        "        \"O\", \n",
        "        \"B_ORG\", \"B_PER\", \"B_DAT\", \"B_TIM\", \"B_LOC\", \"B_EVE\", \"B_mainLOC\", \"B_NAT\",\n",
        "        \"I_ORG\", \"I_PER\", \"I_DAT\", \"I_TIM\", \"I_LOC\", \"I_EVE\", \"I_mainLOC\", \"I_NAT\"\n",
        "    ]\n",
        "else:\n",
        "    label_list = [\"O\", \"ORG\", \"PER\", \"DAT\", \"TIM\", \"LOC\", \"EVE\", \"mainLOC\", \"NAT\"]\n",
        "labels_to_ids = {k: v for v, k in enumerate(label_list)}\n",
        "ids_to_labels = {v: k for v, k in enumerate(label_list)}\n",
        "\n",
        "LABELS = len(label_list)\n",
        "\n",
        "print(labels_to_ids)\n",
        "print(ids_to_labels)"
      ],
      "metadata": {
        "colab": {
          "base_uri": "https://localhost:8080/"
        },
        "id": "YpPxIA66tX2f",
        "outputId": "3456f64e-bd14-499e-d171-aece61147b3c"
      },
      "execution_count": 6,
      "outputs": [
        {
          "output_type": "stream",
          "name": "stdout",
          "text": [
            "{'O': 0, 'B_ORG': 1, 'B_PER': 2, 'B_DAT': 3, 'B_TIM': 4, 'B_LOC': 5, 'B_EVE': 6, 'B_mainLOC': 7, 'B_NAT': 8, 'I_ORG': 9, 'I_PER': 10, 'I_DAT': 11, 'I_TIM': 12, 'I_LOC': 13, 'I_EVE': 14, 'I_mainLOC': 15, 'I_NAT': 16}\n",
            "{0: 'O', 1: 'B_ORG', 2: 'B_PER', 3: 'B_DAT', 4: 'B_TIM', 5: 'B_LOC', 6: 'B_EVE', 7: 'B_mainLOC', 8: 'B_NAT', 9: 'I_ORG', 10: 'I_PER', 11: 'I_DAT', 12: 'I_TIM', 13: 'I_LOC', 14: 'I_EVE', 15: 'I_mainLOC', 16: 'I_NAT'}\n"
          ]
        }
      ]
    },
    {
      "cell_type": "markdown",
      "source": [
        "### Initialise Bert Tokenizer\n",
        "\n",
        "In this section, **ParsBERT(v2.0)** tokenizer is used for tokenization. ParsBERT (v2.0) is a Transformer-based Model for Persian Language Understanding that reconstructed the vocabulary and fine-tuned the ParsBERT v1.1 on the new Persian corpora in order to provide some functionalities for using ParsBERT in other scopes! Follow the ParsBERT repo for the latest information about previous and current models. Persian Text Classification [DigiMag, Persian News] The task target is labeling texts in a supervised manner in both existing datasets DigiMag and Persian News. A total of 8,515 articles scraped from **Digikala** Online Magazine. This dataset includes seven different classes."
      ],
      "metadata": {
        "id": "d2UmVH0UQ9qo"
      }
    },
    {
      "cell_type": "code",
      "execution_count": 7,
      "metadata": {
        "id": "krIY580imt54"
      },
      "outputs": [],
      "source": [
        "tokenizer = AutoTokenizer.from_pretrained(\n",
        "    \"HooshvareLab/bert-fa-base-uncased-clf-digimag\"\n",
        ")\n",
        "\n",
        "# texts = ['امین', \n",
        "#          'آرمین پسر خوبی است'\n",
        "#          ]\n",
        "# encodings = tokenizer(\n",
        "#     texts,\n",
        "#     return_offsets_mapping=True,\n",
        "#     padding=\"max_length\",\n",
        "#     max_length=120,\n",
        "#     truncation=True,\n",
        "#     return_tensors=\"pt\"\n",
        "# )\n",
        "# encodings['input_ids'].shape"
      ]
    },
    {
      "cell_type": "markdown",
      "source": [
        "### Handle Overlaps between Named Entity Tags\n",
        "\n",
        "In this section, some functions are defined to handle overlapping ner tags in such a way that the inner tags are removed and only the outermost tags are kept (Larger tag is keeped and smaller is removed)."
      ],
      "metadata": {
        "id": "5jXL7aYmRQHr"
      }
    },
    {
      "cell_type": "code",
      "source": [
        "def has_intersection(first, second):\n",
        "    if first[0] < second[0]:\n",
        "        if first[1] <= second[0]:\n",
        "            return False\n",
        "        else:\n",
        "            return True\n",
        "    else:\n",
        "        if first[0] >= second[1]:\n",
        "            return False\n",
        "        else:\n",
        "            return True\n",
        "\n",
        "def remove_annotation_overlap(annotations):\n",
        "    annotations = sorted(annotations, key=lambda x: x[\"range\"][0])\n",
        "    n = len(annotations)\n",
        "    if n == 0:\n",
        "        return []\n",
        "    i = 0\n",
        "    j = 1\n",
        "    while i < n and j < n:\n",
        "        first = annotations[i]\n",
        "        first_range = first[\"range\"]\n",
        "        second = annotations[j]\n",
        "        second_range = second[\"range\"]\n",
        "        if has_intersection(first_range, second_range):\n",
        "            new = first if (first_range[1]-first_range[0]) > (second_range[1]-second_range[0]) else second\n",
        "            annotations[i]= new\n",
        "            annotations[j] = None\n",
        "        else:\n",
        "            i = j\n",
        "        j += 1\n",
        "\n",
        "    annotations = list(filter(lambda x: not x is None, annotations))\n",
        "    return annotations\n"
      ],
      "metadata": {
        "id": "Kc-bscDARRA7"
      },
      "execution_count": 8,
      "outputs": []
    },
    {
      "cell_type": "markdown",
      "source": [
        "### Character Level to Token Level Indexing\n",
        "\n",
        "In this section, some functions are defined to handle token level indexing. to overcome token level indexing, CLS and END must be considered. "
      ],
      "metadata": {
        "id": "GaTA08awRXoL"
      }
    },
    {
      "cell_type": "code",
      "execution_count": 9,
      "metadata": {
        "id": "gVni_uwPmt57"
      },
      "outputs": [],
      "source": [
        "def get_starting_token_index(tag_start, word_index, token_offsets):\n",
        "    while word_index <= MAX_LEN - 1 and token_offsets[word_index][0] < tag_start:\n",
        "        word_index += 1\n",
        "    return word_index\n",
        "\n",
        "def get_ending_token_index(tag_stop, word_index, token_offsets):\n",
        "    while (\n",
        "        word_index <= MAX_LEN - 1\n",
        "        and token_offsets[word_index][1] < tag_stop\n",
        "        and token_offsets[word_index][1] != 0\n",
        "    ):\n",
        "        word_index += 1\n",
        "    return word_index\n",
        "\n",
        "def get_final_label(encoding, annotation):\n",
        "    token_offsets = encoding[\"offset_mapping\"]\n",
        "    input_ids = encoding[\"input_ids\"]\n",
        "    end_element = torch.argmin(input_ids)\n",
        "    final_labels = [-100] * MAX_LEN\n",
        "    final_labels[1:end_element] = [0] * (end_element - 1)\n",
        "\n",
        "    annotations_without_overlap = remove_annotation_overlap(annotation)\n",
        "\n",
        "    word_index = 1\n",
        "    for label in annotations_without_overlap:\n",
        "        interval = label[\"range\"]\n",
        "        label_name = label[\"name\"]\n",
        "        word_index = get_starting_token_index(interval[0], word_index, token_offsets)\n",
        "        start_token_index = word_index\n",
        "        if start_token_index == 512:\n",
        "          break\n",
        "        word_index = get_ending_token_index(interval[1], word_index, token_offsets)\n",
        "        end_token_index = word_index\n",
        "        if BIO:\n",
        "            final_labels[start_token_index:end_token_index+1] = [labels_to_ids[\"I_\"+label_name]] * (end_token_index-start_token_index+1)\n",
        "            final_labels[start_token_index] = labels_to_ids[\"B_\"+label_name]\n",
        "        else:\n",
        "            final_labels[start_token_index:end_token_index+1] = [labels_to_ids[label_name]] * (end_token_index-start_token_index+1)\n",
        "\n",
        "        word_index += 1\n",
        "    return final_labels\n",
        "\n"
      ]
    },
    {
      "cell_type": "markdown",
      "source": [
        "### Define DataSequence and DataLoader\n",
        "\n",
        "In this section, DataSequence and DataLoader that used in bert fine-tuning are defined."
      ],
      "metadata": {
        "id": "yvcHk2pzRd2T"
      }
    },
    {
      "cell_type": "code",
      "source": [
        "class DataSequence(torch.utils.data.Dataset):\n",
        "    def __init__(self, news_list):\n",
        "        labels = []\n",
        "        texts = []\n",
        "        for news in news_list:\n",
        "            header = news[\"header\"]\n",
        "            text = news[\"text\"]\n",
        "            header_annotaition = []\n",
        "            text_annotation = []\n",
        "            for i in range(len(news[\"annotations\"])): \n",
        "                header_annotaition.extend(news[\"annotations\"][i][\"header\"])\n",
        "                text_annotation.extend(news[\"annotations\"][i][\"text\"])\n",
        "\n",
        "            for t, annotation in [(header,header_annotaition), (text, text_annotation)]:\n",
        "                encoding = tokenizer(\n",
        "                    t,\n",
        "                    return_offsets_mapping=True,\n",
        "                    padding='max_length',\n",
        "                    max_length=MAX_LEN, # including [CLS] end [SEP]\n",
        "                    truncation=True,\n",
        "                    return_tensors=\"pt\",\n",
        "                )\n",
        "                for key in ['input_ids', 'attention_mask', 'token_type_ids', 'offset_mapping']:\n",
        "                    encoding[key] = encoding[key][0]\n",
        "                label = get_final_label(encoding, annotation)\n",
        "                texts.append(encoding)\n",
        "                labels.append(label)\n",
        "\n",
        "\n",
        "        self.texts = texts\n",
        "        self.labels = labels\n",
        "\n",
        "    def __len__(self):\n",
        "        return len(self.labels)\n",
        "\n",
        "    def get_batch_data(self, idx):\n",
        "        return self.texts[idx]\n",
        "\n",
        "    def get_batch_labels(self, idx):\n",
        "        return torch.LongTensor(self.labels[idx])\n",
        "\n",
        "    def __getitem__(self, idx):\n",
        "        batch_data = self.get_batch_data(idx)\n",
        "        batch_labels = self.get_batch_labels(idx)\n",
        "        return batch_data, batch_labels\n",
        "\n",
        "def to_device(data, device):\n",
        "    if isinstance(data, (list,tuple)):\n",
        "        return [to_device(x, device) for x in data]\n",
        "    return data.to(device)\n",
        "\n",
        "class DeviceDataLoader():\n",
        "    def __init__(self, dl, device):\n",
        "        self.dl = dl\n",
        "        self.device = device\n",
        "\n",
        "    def __iter__(self):\n",
        "        for b in self.dl: \n",
        "            yield to_device(b, self.device)\n",
        "\n",
        "    def __len__(self):\n",
        "        return len(self.dl)"
      ],
      "metadata": {
        "id": "4LcDX9HwRgai"
      },
      "execution_count": 10,
      "outputs": []
    },
    {
      "cell_type": "markdown",
      "source": [
        "### Initialise DataSequence and DataLoader Object"
      ],
      "metadata": {
        "id": "KoQSP7uuRmqN"
      }
    },
    {
      "cell_type": "code",
      "source": [
        "def get_dataloader(data, batch=None, cuda=True):\n",
        "    dataset = DataSequence(data)\n",
        "    print('len ds: ', len(dataset))\n",
        "    if batch is None:\n",
        "        batch = len(dataset)\n",
        "    dataloader = DataLoader(\n",
        "        dataset, num_workers=1, batch_size=batch, shuffle=True\n",
        "    )\n",
        "    if cuda:\n",
        "        dataloader = DeviceDataLoader(dataloader, device)\n",
        "    return dataloader\n",
        "\n",
        "train_dataloader = get_dataloader(train_data, BATCH_SIZE)\n",
        "val_dataloader = get_dataloader(val_data, BATCH_SIZE)\n",
        "test_dataloader = get_dataloader(test_data, BATCH_SIZE, cuda=False)"
      ],
      "metadata": {
        "id": "msu7g3ip3vMk",
        "colab": {
          "base_uri": "https://localhost:8080/"
        },
        "outputId": "22eb7929-8493-4f06-d487-5bc6fd6cd8bb"
      },
      "execution_count": 11,
      "outputs": [
        {
          "output_type": "stream",
          "name": "stdout",
          "text": [
            "len ds:  2700\n",
            "len ds:  150\n",
            "len ds:  150\n"
          ]
        }
      ]
    },
    {
      "cell_type": "code",
      "source": [
        "print(len(train_dataloader))\n",
        "print(len(val_dataloader))\n",
        "print(len(test_dataloader))"
      ],
      "metadata": {
        "colab": {
          "base_uri": "https://localhost:8080/"
        },
        "id": "ypmb0kMIUTDi",
        "outputId": "794eedc4-acb0-486e-d9f9-05d10dac7e94"
      },
      "execution_count": 12,
      "outputs": [
        {
          "output_type": "stream",
          "name": "stdout",
          "text": [
            "675\n",
            "38\n",
            "38\n"
          ]
        }
      ]
    },
    {
      "cell_type": "markdown",
      "source": [
        "# Define Bert NER Model"
      ],
      "metadata": {
        "id": "DgjWktTfRssP"
      }
    },
    {
      "cell_type": "code",
      "source": [
        "from transformers import BertForTokenClassification\n",
        "\n",
        "class BertNER(torch.nn.Module):\n",
        "    def __init__(self):\n",
        "        super(BertNER, self).__init__()\n",
        "        self.bert = BertForTokenClassification.from_pretrained(\n",
        "            \"HooshvareLab/bert-fa-base-uncased-clf-digimag\",\n",
        "            num_labels=LABELS,\n",
        "            ignore_mismatched_sizes=True,\n",
        "        )\n",
        "\n",
        "    def forward(self, input_batch, labels):\n",
        "        input_ids = input_batch[\"input_ids\"]\n",
        "        mask = input_batch[\"attention_mask\"]\n",
        "        output = self.bert(\n",
        "            input_ids=input_ids, attention_mask=mask, labels=labels, return_dict=False\n",
        "        )\n",
        "        return output"
      ],
      "metadata": {
        "id": "07dJvyOAA5m0"
      },
      "execution_count": 13,
      "outputs": []
    },
    {
      "cell_type": "code",
      "source": [
        "model = BertNER()\n",
        "if use_cuda:\n",
        "    model = model.cuda()"
      ],
      "metadata": {
        "colab": {
          "base_uri": "https://localhost:8080/"
        },
        "id": "ElR4lGfzeGwg",
        "outputId": "04a4eb00-0869-4108-82af-49c71e732f03"
      },
      "execution_count": 14,
      "outputs": [
        {
          "output_type": "stream",
          "name": "stderr",
          "text": [
            "Some weights of BertForTokenClassification were not initialized from the model checkpoint at HooshvareLab/bert-fa-base-uncased-clf-digimag and are newly initialized because the shapes did not match:\n",
            "- classifier.weight: found shape torch.Size([7, 768]) in the checkpoint and torch.Size([17, 768]) in the model instantiated\n",
            "- classifier.bias: found shape torch.Size([7]) in the checkpoint and torch.Size([17]) in the model instantiated\n",
            "You should probably TRAIN this model on a down-stream task to be able to use it for predictions and inference.\n"
          ]
        }
      ]
    },
    {
      "cell_type": "markdown",
      "source": [
        "# Training"
      ],
      "metadata": {
        "id": "qwBe9h-SRvvC"
      }
    },
    {
      "cell_type": "code",
      "source": [
        "from torch.optim import SGD\n",
        "\n",
        "def train_loop(model, train_dataloader, val_dataloader):\n",
        "    optimizer = SGD(model.parameters(), lr=LEARNING_RATE)\n",
        "    for epoch_num in range(EPOCHS):\n",
        "        total_loss_train = 0\n",
        "        model.train()\n",
        "        for input_batch, batch_labels in tqdm(train_dataloader):\n",
        "            loss, logits = model(input_batch, batch_labels)\n",
        "            total_loss_train += loss.item()\n",
        "            optimizer.zero_grad()\n",
        "            loss.backward()\n",
        "            optimizer.step()\n",
        "\n",
        "        print(f\"Epochs: {epoch_num} Loss: {total_loss_train}\")\n",
        "        evaluate(model, val_dataloader)\n",
        "\n"
      ],
      "metadata": {
        "id": "iAMIoYTmBvZt"
      },
      "execution_count": 15,
      "outputs": []
    },
    {
      "cell_type": "markdown",
      "source": [
        "# Evaluation\n",
        "\n",
        "For Evaluation task, evaluate library is used. Evaluate is a library that makes evaluating and comparing models and reporting their performance easier and more standardized.\n",
        "\n"
      ],
      "metadata": {
        "id": "8HzQGnTDR52M"
      }
    },
    {
      "cell_type": "code",
      "source": [
        "import evaluate as e\n",
        "from pprint import pprint\n",
        "\n",
        "f1_metric = e.load(\"f1\")\n",
        "accuracy_metric = e.load(\"accuracy\")\n",
        "recall_metric = e.load(\"recall\")\n",
        "\n",
        "def evaluate_metrics(predictions, label_clean):\n",
        "    metrics = {}\n",
        "    metrics['size'] = predictions.shape[0]\n",
        "\n",
        "    predictions = predictions.view(-1)\n",
        "    label_clean = label_clean.view(-1)\n",
        "    metrics['f1_weighted'] = f1_metric.compute(\n",
        "        predictions=predictions, references=label_clean, average=\"weighted\"\n",
        "    )['f1']\n",
        "    metrics['f1_macro'] = f1_metric.compute(\n",
        "        predictions=predictions, references=label_clean, average=\"macro\"\n",
        "    )['f1']\n",
        "    metrics['f1_micro'] = f1_metric.compute(\n",
        "        predictions=predictions, references=label_clean, average=\"micro\"\n",
        "    )['f1']\n",
        "    # metrics['f1_none'] = f1_metric.compute(\n",
        "    #     predictions=predictions, references=label_clean, average=None\n",
        "    # )['f1']\n",
        "    metrics['accuracy'] = accuracy_metric.compute(\n",
        "        predictions=predictions, references=label_clean\n",
        "    )['accuracy']\n",
        "    metrics['recall_weighted'] = recall_metric.compute(\n",
        "        predictions=predictions, references=label_clean, average=\"weighted\"\n",
        "    )['recall']\n",
        "    metrics['recall_macro'] = recall_metric.compute(\n",
        "        predictions=predictions, references=label_clean, average=\"macro\"\n",
        "    )['recall']\n",
        "    metrics['recall_micro'] = recall_metric.compute(\n",
        "        predictions=predictions, references=label_clean, average=\"micro\"\n",
        "    )['recall']\n",
        "    # metrics['recall_none'] = recall_metric.compute(\n",
        "    #     predictions=predictions, references=label_clean, average=None\n",
        "    # )['recall']\n",
        "    # pprint(metrics)\n",
        "    return metrics\n",
        "\n",
        "def average_metrics(metrics):\n",
        "    average_metrics = {key:0 for key in metrics[0].keys() if key != 'size'}\n",
        "    metric_names = average_metrics.keys()\n",
        "    total_size = 0\n",
        "    for metric_dict in metrics:\n",
        "        size = metric_dict.pop('size')\n",
        "        total_size += size\n",
        "        for metric, value in metric_dict.items():\n",
        "            average_metrics[metric] += value*size\n",
        "    \n",
        "    average_metrics = {key: value/total_size for key, value in average_metrics.items()}\n",
        "    return average_metrics\n",
        "\n",
        "\n",
        "def evaluate(model, val_dataloader):\n",
        "    model.eval()\n",
        "    metrics = []\n",
        "    for input_batch, batch_labels in val_dataloader:\n",
        "        loss, logits = model(input_batch, batch_labels)\n",
        "        predictions = logits.argmax(dim=2)\n",
        "        predictions[batch_labels == -100] = -100\n",
        "        metrics.append(evaluate_metrics(predictions, batch_labels))\n",
        "    \n",
        "    metrics = average_metrics(metrics)\n",
        "    pprint(metrics)"
      ],
      "metadata": {
        "id": "N1VzWAbTCckL"
      },
      "execution_count": 16,
      "outputs": []
    },
    {
      "cell_type": "code",
      "source": [
        "print(\"training ...\")\n",
        "train_loop(model, train_dataloader, val_dataloader)"
      ],
      "metadata": {
        "id": "YXmYguOyGOry",
        "colab": {
          "base_uri": "https://localhost:8080/"
        },
        "outputId": "14f9a3d6-bc92-4a91-b959-a4a0de53cc55"
      },
      "execution_count": 17,
      "outputs": [
        {
          "output_type": "stream",
          "name": "stdout",
          "text": [
            "training ...\n"
          ]
        },
        {
          "output_type": "stream",
          "name": "stderr",
          "text": [
            "100%|██████████| 675/675 [04:01<00:00,  2.79it/s]"
          ]
        },
        {
          "output_type": "stream",
          "name": "stdout",
          "text": [
            "Epochs: 0 Loss: 460.20897424966097\n"
          ]
        },
        {
          "output_type": "stream",
          "name": "stderr",
          "text": [
            "\n",
            "/usr/local/lib/python3.7/dist-packages/sklearn/metrics/_classification.py:1318: UndefinedMetricWarning: Recall is ill-defined and being set to 0.0 in labels with no true samples. Use `zero_division` parameter to control this behavior.\n",
            "  _warn_prf(average, modifier, msg_start, len(result))\n",
            "/usr/local/lib/python3.7/dist-packages/sklearn/metrics/_classification.py:1318: UndefinedMetricWarning: Recall is ill-defined and being set to 0.0 in labels with no true samples. Use `zero_division` parameter to control this behavior.\n",
            "  _warn_prf(average, modifier, msg_start, len(result))\n",
            "/usr/local/lib/python3.7/dist-packages/sklearn/metrics/_classification.py:1318: UndefinedMetricWarning: Recall is ill-defined and being set to 0.0 in labels with no true samples. Use `zero_division` parameter to control this behavior.\n",
            "  _warn_prf(average, modifier, msg_start, len(result))\n",
            "/usr/local/lib/python3.7/dist-packages/sklearn/metrics/_classification.py:1318: UndefinedMetricWarning: Recall is ill-defined and being set to 0.0 in labels with no true samples. Use `zero_division` parameter to control this behavior.\n",
            "  _warn_prf(average, modifier, msg_start, len(result))\n",
            "/usr/local/lib/python3.7/dist-packages/sklearn/metrics/_classification.py:1318: UndefinedMetricWarning: Recall is ill-defined and being set to 0.0 in labels with no true samples. Use `zero_division` parameter to control this behavior.\n",
            "  _warn_prf(average, modifier, msg_start, len(result))\n",
            "/usr/local/lib/python3.7/dist-packages/sklearn/metrics/_classification.py:1318: UndefinedMetricWarning: Recall is ill-defined and being set to 0.0 in labels with no true samples. Use `zero_division` parameter to control this behavior.\n",
            "  _warn_prf(average, modifier, msg_start, len(result))\n",
            "/usr/local/lib/python3.7/dist-packages/sklearn/metrics/_classification.py:1318: UndefinedMetricWarning: Recall is ill-defined and being set to 0.0 in labels with no true samples. Use `zero_division` parameter to control this behavior.\n",
            "  _warn_prf(average, modifier, msg_start, len(result))\n",
            "/usr/local/lib/python3.7/dist-packages/sklearn/metrics/_classification.py:1318: UndefinedMetricWarning: Recall is ill-defined and being set to 0.0 in labels with no true samples. Use `zero_division` parameter to control this behavior.\n",
            "  _warn_prf(average, modifier, msg_start, len(result))\n",
            "/usr/local/lib/python3.7/dist-packages/sklearn/metrics/_classification.py:1318: UndefinedMetricWarning: Recall is ill-defined and being set to 0.0 in labels with no true samples. Use `zero_division` parameter to control this behavior.\n",
            "  _warn_prf(average, modifier, msg_start, len(result))\n",
            "/usr/local/lib/python3.7/dist-packages/sklearn/metrics/_classification.py:1318: UndefinedMetricWarning: Recall is ill-defined and being set to 0.0 in labels with no true samples. Use `zero_division` parameter to control this behavior.\n",
            "  _warn_prf(average, modifier, msg_start, len(result))\n",
            "/usr/local/lib/python3.7/dist-packages/sklearn/metrics/_classification.py:1318: UndefinedMetricWarning: Recall is ill-defined and being set to 0.0 in labels with no true samples. Use `zero_division` parameter to control this behavior.\n",
            "  _warn_prf(average, modifier, msg_start, len(result))\n",
            "/usr/local/lib/python3.7/dist-packages/sklearn/metrics/_classification.py:1318: UndefinedMetricWarning: Recall is ill-defined and being set to 0.0 in labels with no true samples. Use `zero_division` parameter to control this behavior.\n",
            "  _warn_prf(average, modifier, msg_start, len(result))\n",
            "/usr/local/lib/python3.7/dist-packages/sklearn/metrics/_classification.py:1318: UndefinedMetricWarning: Recall is ill-defined and being set to 0.0 in labels with no true samples. Use `zero_division` parameter to control this behavior.\n",
            "  _warn_prf(average, modifier, msg_start, len(result))\n",
            "/usr/local/lib/python3.7/dist-packages/sklearn/metrics/_classification.py:1318: UndefinedMetricWarning: Recall is ill-defined and being set to 0.0 in labels with no true samples. Use `zero_division` parameter to control this behavior.\n",
            "  _warn_prf(average, modifier, msg_start, len(result))\n",
            "/usr/local/lib/python3.7/dist-packages/sklearn/metrics/_classification.py:1318: UndefinedMetricWarning: Recall is ill-defined and being set to 0.0 in labels with no true samples. Use `zero_division` parameter to control this behavior.\n",
            "  _warn_prf(average, modifier, msg_start, len(result))\n",
            "/usr/local/lib/python3.7/dist-packages/sklearn/metrics/_classification.py:1318: UndefinedMetricWarning: Recall is ill-defined and being set to 0.0 in labels with no true samples. Use `zero_division` parameter to control this behavior.\n",
            "  _warn_prf(average, modifier, msg_start, len(result))\n",
            "/usr/local/lib/python3.7/dist-packages/sklearn/metrics/_classification.py:1318: UndefinedMetricWarning: Recall is ill-defined and being set to 0.0 in labels with no true samples. Use `zero_division` parameter to control this behavior.\n",
            "  _warn_prf(average, modifier, msg_start, len(result))\n",
            "/usr/local/lib/python3.7/dist-packages/sklearn/metrics/_classification.py:1318: UndefinedMetricWarning: Recall is ill-defined and being set to 0.0 in labels with no true samples. Use `zero_division` parameter to control this behavior.\n",
            "  _warn_prf(average, modifier, msg_start, len(result))\n",
            "/usr/local/lib/python3.7/dist-packages/sklearn/metrics/_classification.py:1318: UndefinedMetricWarning: Recall is ill-defined and being set to 0.0 in labels with no true samples. Use `zero_division` parameter to control this behavior.\n",
            "  _warn_prf(average, modifier, msg_start, len(result))\n",
            "/usr/local/lib/python3.7/dist-packages/sklearn/metrics/_classification.py:1318: UndefinedMetricWarning: Recall is ill-defined and being set to 0.0 in labels with no true samples. Use `zero_division` parameter to control this behavior.\n",
            "  _warn_prf(average, modifier, msg_start, len(result))\n",
            "/usr/local/lib/python3.7/dist-packages/sklearn/metrics/_classification.py:1318: UndefinedMetricWarning: Recall is ill-defined and being set to 0.0 in labels with no true samples. Use `zero_division` parameter to control this behavior.\n",
            "  _warn_prf(average, modifier, msg_start, len(result))\n",
            "/usr/local/lib/python3.7/dist-packages/sklearn/metrics/_classification.py:1318: UndefinedMetricWarning: Recall is ill-defined and being set to 0.0 in labels with no true samples. Use `zero_division` parameter to control this behavior.\n",
            "  _warn_prf(average, modifier, msg_start, len(result))\n",
            "/usr/local/lib/python3.7/dist-packages/sklearn/metrics/_classification.py:1318: UndefinedMetricWarning: Recall is ill-defined and being set to 0.0 in labels with no true samples. Use `zero_division` parameter to control this behavior.\n",
            "  _warn_prf(average, modifier, msg_start, len(result))\n",
            "/usr/local/lib/python3.7/dist-packages/sklearn/metrics/_classification.py:1318: UndefinedMetricWarning: Recall is ill-defined and being set to 0.0 in labels with no true samples. Use `zero_division` parameter to control this behavior.\n",
            "  _warn_prf(average, modifier, msg_start, len(result))\n",
            "/usr/local/lib/python3.7/dist-packages/sklearn/metrics/_classification.py:1318: UndefinedMetricWarning: Recall is ill-defined and being set to 0.0 in labels with no true samples. Use `zero_division` parameter to control this behavior.\n",
            "  _warn_prf(average, modifier, msg_start, len(result))\n",
            "/usr/local/lib/python3.7/dist-packages/sklearn/metrics/_classification.py:1318: UndefinedMetricWarning: Recall is ill-defined and being set to 0.0 in labels with no true samples. Use `zero_division` parameter to control this behavior.\n",
            "  _warn_prf(average, modifier, msg_start, len(result))\n",
            "/usr/local/lib/python3.7/dist-packages/sklearn/metrics/_classification.py:1318: UndefinedMetricWarning: Recall is ill-defined and being set to 0.0 in labels with no true samples. Use `zero_division` parameter to control this behavior.\n",
            "  _warn_prf(average, modifier, msg_start, len(result))\n",
            "/usr/local/lib/python3.7/dist-packages/sklearn/metrics/_classification.py:1318: UndefinedMetricWarning: Recall is ill-defined and being set to 0.0 in labels with no true samples. Use `zero_division` parameter to control this behavior.\n",
            "  _warn_prf(average, modifier, msg_start, len(result))\n",
            "/usr/local/lib/python3.7/dist-packages/sklearn/metrics/_classification.py:1318: UndefinedMetricWarning: Recall is ill-defined and being set to 0.0 in labels with no true samples. Use `zero_division` parameter to control this behavior.\n",
            "  _warn_prf(average, modifier, msg_start, len(result))\n",
            "/usr/local/lib/python3.7/dist-packages/sklearn/metrics/_classification.py:1318: UndefinedMetricWarning: Recall is ill-defined and being set to 0.0 in labels with no true samples. Use `zero_division` parameter to control this behavior.\n",
            "  _warn_prf(average, modifier, msg_start, len(result))\n"
          ]
        },
        {
          "output_type": "stream",
          "name": "stdout",
          "text": [
            "{'accuracy': 0.9841666666666666,\n",
            " 'f1_macro': 0.48899557075805555,\n",
            " 'f1_micro': 0.9841666666666666,\n",
            " 'f1_weighted': 0.9829408091465794,\n",
            " 'recall_macro': 0.518836061426203,\n",
            " 'recall_micro': 0.9841666666666666,\n",
            " 'recall_weighted': 0.9841666666666666}\n"
          ]
        },
        {
          "output_type": "stream",
          "name": "stderr",
          "text": [
            "100%|██████████| 675/675 [04:05<00:00,  2.75it/s]"
          ]
        },
        {
          "output_type": "stream",
          "name": "stdout",
          "text": [
            "Epochs: 1 Loss: 310.68902610242367\n"
          ]
        },
        {
          "output_type": "stream",
          "name": "stderr",
          "text": [
            "\n"
          ]
        },
        {
          "output_type": "stream",
          "name": "stdout",
          "text": [
            "{'accuracy': 0.972421875,\n",
            " 'f1_macro': 0.15782530585272211,\n",
            " 'f1_micro': 0.972421875,\n",
            " 'f1_weighted': 0.9603911779296049,\n",
            " 'recall_macro': 0.16657150257150263,\n",
            " 'recall_micro': 0.972421875,\n",
            " 'recall_weighted': 0.972421875}\n"
          ]
        },
        {
          "output_type": "stream",
          "name": "stderr",
          "text": [
            "100%|██████████| 675/675 [04:05<00:00,  2.75it/s]"
          ]
        },
        {
          "output_type": "stream",
          "name": "stdout",
          "text": [
            "Epochs: 2 Loss: 644.9671168476343\n"
          ]
        },
        {
          "output_type": "stream",
          "name": "stderr",
          "text": [
            "\n"
          ]
        },
        {
          "output_type": "stream",
          "name": "stdout",
          "text": [
            "{'accuracy': 0.972421875,\n",
            " 'f1_macro': 0.15127008510875484,\n",
            " 'f1_micro': 0.972421875,\n",
            " 'f1_weighted': 0.9603249201900159,\n",
            " 'recall_macro': 0.159946053946054,\n",
            " 'recall_micro': 0.972421875,\n",
            " 'recall_weighted': 0.972421875}\n"
          ]
        },
        {
          "output_type": "stream",
          "name": "stderr",
          "text": [
            "100%|██████████| 675/675 [04:05<00:00,  2.75it/s]"
          ]
        },
        {
          "output_type": "stream",
          "name": "stdout",
          "text": [
            "Epochs: 3 Loss: 267.3815689831972\n"
          ]
        },
        {
          "output_type": "stream",
          "name": "stderr",
          "text": [
            "\n",
            "/usr/local/lib/python3.7/dist-packages/sklearn/metrics/_classification.py:1318: UndefinedMetricWarning: Recall is ill-defined and being set to 0.0 in labels with no true samples. Use `zero_division` parameter to control this behavior.\n",
            "  _warn_prf(average, modifier, msg_start, len(result))\n",
            "/usr/local/lib/python3.7/dist-packages/sklearn/metrics/_classification.py:1318: UndefinedMetricWarning: Recall is ill-defined and being set to 0.0 in labels with no true samples. Use `zero_division` parameter to control this behavior.\n",
            "  _warn_prf(average, modifier, msg_start, len(result))\n",
            "/usr/local/lib/python3.7/dist-packages/sklearn/metrics/_classification.py:1318: UndefinedMetricWarning: Recall is ill-defined and being set to 0.0 in labels with no true samples. Use `zero_division` parameter to control this behavior.\n",
            "  _warn_prf(average, modifier, msg_start, len(result))\n",
            "/usr/local/lib/python3.7/dist-packages/sklearn/metrics/_classification.py:1318: UndefinedMetricWarning: Recall is ill-defined and being set to 0.0 in labels with no true samples. Use `zero_division` parameter to control this behavior.\n",
            "  _warn_prf(average, modifier, msg_start, len(result))\n",
            "/usr/local/lib/python3.7/dist-packages/sklearn/metrics/_classification.py:1318: UndefinedMetricWarning: Recall is ill-defined and being set to 0.0 in labels with no true samples. Use `zero_division` parameter to control this behavior.\n",
            "  _warn_prf(average, modifier, msg_start, len(result))\n",
            "/usr/local/lib/python3.7/dist-packages/sklearn/metrics/_classification.py:1318: UndefinedMetricWarning: Recall is ill-defined and being set to 0.0 in labels with no true samples. Use `zero_division` parameter to control this behavior.\n",
            "  _warn_prf(average, modifier, msg_start, len(result))\n",
            "/usr/local/lib/python3.7/dist-packages/sklearn/metrics/_classification.py:1318: UndefinedMetricWarning: Recall is ill-defined and being set to 0.0 in labels with no true samples. Use `zero_division` parameter to control this behavior.\n",
            "  _warn_prf(average, modifier, msg_start, len(result))\n",
            "/usr/local/lib/python3.7/dist-packages/sklearn/metrics/_classification.py:1318: UndefinedMetricWarning: Recall is ill-defined and being set to 0.0 in labels with no true samples. Use `zero_division` parameter to control this behavior.\n",
            "  _warn_prf(average, modifier, msg_start, len(result))\n",
            "/usr/local/lib/python3.7/dist-packages/sklearn/metrics/_classification.py:1318: UndefinedMetricWarning: Recall is ill-defined and being set to 0.0 in labels with no true samples. Use `zero_division` parameter to control this behavior.\n",
            "  _warn_prf(average, modifier, msg_start, len(result))\n",
            "/usr/local/lib/python3.7/dist-packages/sklearn/metrics/_classification.py:1318: UndefinedMetricWarning: Recall is ill-defined and being set to 0.0 in labels with no true samples. Use `zero_division` parameter to control this behavior.\n",
            "  _warn_prf(average, modifier, msg_start, len(result))\n",
            "/usr/local/lib/python3.7/dist-packages/sklearn/metrics/_classification.py:1318: UndefinedMetricWarning: Recall is ill-defined and being set to 0.0 in labels with no true samples. Use `zero_division` parameter to control this behavior.\n",
            "  _warn_prf(average, modifier, msg_start, len(result))\n",
            "/usr/local/lib/python3.7/dist-packages/sklearn/metrics/_classification.py:1318: UndefinedMetricWarning: Recall is ill-defined and being set to 0.0 in labels with no true samples. Use `zero_division` parameter to control this behavior.\n",
            "  _warn_prf(average, modifier, msg_start, len(result))\n",
            "/usr/local/lib/python3.7/dist-packages/sklearn/metrics/_classification.py:1318: UndefinedMetricWarning: Recall is ill-defined and being set to 0.0 in labels with no true samples. Use `zero_division` parameter to control this behavior.\n",
            "  _warn_prf(average, modifier, msg_start, len(result))\n",
            "/usr/local/lib/python3.7/dist-packages/sklearn/metrics/_classification.py:1318: UndefinedMetricWarning: Recall is ill-defined and being set to 0.0 in labels with no true samples. Use `zero_division` parameter to control this behavior.\n",
            "  _warn_prf(average, modifier, msg_start, len(result))\n",
            "/usr/local/lib/python3.7/dist-packages/sklearn/metrics/_classification.py:1318: UndefinedMetricWarning: Recall is ill-defined and being set to 0.0 in labels with no true samples. Use `zero_division` parameter to control this behavior.\n",
            "  _warn_prf(average, modifier, msg_start, len(result))\n",
            "/usr/local/lib/python3.7/dist-packages/sklearn/metrics/_classification.py:1318: UndefinedMetricWarning: Recall is ill-defined and being set to 0.0 in labels with no true samples. Use `zero_division` parameter to control this behavior.\n",
            "  _warn_prf(average, modifier, msg_start, len(result))\n",
            "/usr/local/lib/python3.7/dist-packages/sklearn/metrics/_classification.py:1318: UndefinedMetricWarning: Recall is ill-defined and being set to 0.0 in labels with no true samples. Use `zero_division` parameter to control this behavior.\n",
            "  _warn_prf(average, modifier, msg_start, len(result))\n",
            "/usr/local/lib/python3.7/dist-packages/sklearn/metrics/_classification.py:1318: UndefinedMetricWarning: Recall is ill-defined and being set to 0.0 in labels with no true samples. Use `zero_division` parameter to control this behavior.\n",
            "  _warn_prf(average, modifier, msg_start, len(result))\n",
            "/usr/local/lib/python3.7/dist-packages/sklearn/metrics/_classification.py:1318: UndefinedMetricWarning: Recall is ill-defined and being set to 0.0 in labels with no true samples. Use `zero_division` parameter to control this behavior.\n",
            "  _warn_prf(average, modifier, msg_start, len(result))\n",
            "/usr/local/lib/python3.7/dist-packages/sklearn/metrics/_classification.py:1318: UndefinedMetricWarning: Recall is ill-defined and being set to 0.0 in labels with no true samples. Use `zero_division` parameter to control this behavior.\n",
            "  _warn_prf(average, modifier, msg_start, len(result))\n",
            "/usr/local/lib/python3.7/dist-packages/sklearn/metrics/_classification.py:1318: UndefinedMetricWarning: Recall is ill-defined and being set to 0.0 in labels with no true samples. Use `zero_division` parameter to control this behavior.\n",
            "  _warn_prf(average, modifier, msg_start, len(result))\n",
            "/usr/local/lib/python3.7/dist-packages/sklearn/metrics/_classification.py:1318: UndefinedMetricWarning: Recall is ill-defined and being set to 0.0 in labels with no true samples. Use `zero_division` parameter to control this behavior.\n",
            "  _warn_prf(average, modifier, msg_start, len(result))\n",
            "/usr/local/lib/python3.7/dist-packages/sklearn/metrics/_classification.py:1318: UndefinedMetricWarning: Recall is ill-defined and being set to 0.0 in labels with no true samples. Use `zero_division` parameter to control this behavior.\n",
            "  _warn_prf(average, modifier, msg_start, len(result))\n",
            "/usr/local/lib/python3.7/dist-packages/sklearn/metrics/_classification.py:1318: UndefinedMetricWarning: Recall is ill-defined and being set to 0.0 in labels with no true samples. Use `zero_division` parameter to control this behavior.\n",
            "  _warn_prf(average, modifier, msg_start, len(result))\n",
            "/usr/local/lib/python3.7/dist-packages/sklearn/metrics/_classification.py:1318: UndefinedMetricWarning: Recall is ill-defined and being set to 0.0 in labels with no true samples. Use `zero_division` parameter to control this behavior.\n",
            "  _warn_prf(average, modifier, msg_start, len(result))\n",
            "/usr/local/lib/python3.7/dist-packages/sklearn/metrics/_classification.py:1318: UndefinedMetricWarning: Recall is ill-defined and being set to 0.0 in labels with no true samples. Use `zero_division` parameter to control this behavior.\n",
            "  _warn_prf(average, modifier, msg_start, len(result))\n",
            "/usr/local/lib/python3.7/dist-packages/sklearn/metrics/_classification.py:1318: UndefinedMetricWarning: Recall is ill-defined and being set to 0.0 in labels with no true samples. Use `zero_division` parameter to control this behavior.\n",
            "  _warn_prf(average, modifier, msg_start, len(result))\n",
            "/usr/local/lib/python3.7/dist-packages/sklearn/metrics/_classification.py:1318: UndefinedMetricWarning: Recall is ill-defined and being set to 0.0 in labels with no true samples. Use `zero_division` parameter to control this behavior.\n",
            "  _warn_prf(average, modifier, msg_start, len(result))\n",
            "/usr/local/lib/python3.7/dist-packages/sklearn/metrics/_classification.py:1318: UndefinedMetricWarning: Recall is ill-defined and being set to 0.0 in labels with no true samples. Use `zero_division` parameter to control this behavior.\n",
            "  _warn_prf(average, modifier, msg_start, len(result))\n",
            "/usr/local/lib/python3.7/dist-packages/sklearn/metrics/_classification.py:1318: UndefinedMetricWarning: Recall is ill-defined and being set to 0.0 in labels with no true samples. Use `zero_division` parameter to control this behavior.\n",
            "  _warn_prf(average, modifier, msg_start, len(result))\n",
            "/usr/local/lib/python3.7/dist-packages/sklearn/metrics/_classification.py:1318: UndefinedMetricWarning: Recall is ill-defined and being set to 0.0 in labels with no true samples. Use `zero_division` parameter to control this behavior.\n",
            "  _warn_prf(average, modifier, msg_start, len(result))\n",
            "/usr/local/lib/python3.7/dist-packages/sklearn/metrics/_classification.py:1318: UndefinedMetricWarning: Recall is ill-defined and being set to 0.0 in labels with no true samples. Use `zero_division` parameter to control this behavior.\n",
            "  _warn_prf(average, modifier, msg_start, len(result))\n",
            "/usr/local/lib/python3.7/dist-packages/sklearn/metrics/_classification.py:1318: UndefinedMetricWarning: Recall is ill-defined and being set to 0.0 in labels with no true samples. Use `zero_division` parameter to control this behavior.\n",
            "  _warn_prf(average, modifier, msg_start, len(result))\n",
            "/usr/local/lib/python3.7/dist-packages/sklearn/metrics/_classification.py:1318: UndefinedMetricWarning: Recall is ill-defined and being set to 0.0 in labels with no true samples. Use `zero_division` parameter to control this behavior.\n",
            "  _warn_prf(average, modifier, msg_start, len(result))\n",
            "/usr/local/lib/python3.7/dist-packages/sklearn/metrics/_classification.py:1318: UndefinedMetricWarning: Recall is ill-defined and being set to 0.0 in labels with no true samples. Use `zero_division` parameter to control this behavior.\n",
            "  _warn_prf(average, modifier, msg_start, len(result))\n",
            "/usr/local/lib/python3.7/dist-packages/sklearn/metrics/_classification.py:1318: UndefinedMetricWarning: Recall is ill-defined and being set to 0.0 in labels with no true samples. Use `zero_division` parameter to control this behavior.\n",
            "  _warn_prf(average, modifier, msg_start, len(result))\n",
            "/usr/local/lib/python3.7/dist-packages/sklearn/metrics/_classification.py:1318: UndefinedMetricWarning: Recall is ill-defined and being set to 0.0 in labels with no true samples. Use `zero_division` parameter to control this behavior.\n",
            "  _warn_prf(average, modifier, msg_start, len(result))\n",
            "/usr/local/lib/python3.7/dist-packages/sklearn/metrics/_classification.py:1318: UndefinedMetricWarning: Recall is ill-defined and being set to 0.0 in labels with no true samples. Use `zero_division` parameter to control this behavior.\n",
            "  _warn_prf(average, modifier, msg_start, len(result))\n",
            "/usr/local/lib/python3.7/dist-packages/sklearn/metrics/_classification.py:1318: UndefinedMetricWarning: Recall is ill-defined and being set to 0.0 in labels with no true samples. Use `zero_division` parameter to control this behavior.\n",
            "  _warn_prf(average, modifier, msg_start, len(result))\n",
            "/usr/local/lib/python3.7/dist-packages/sklearn/metrics/_classification.py:1318: UndefinedMetricWarning: Recall is ill-defined and being set to 0.0 in labels with no true samples. Use `zero_division` parameter to control this behavior.\n",
            "  _warn_prf(average, modifier, msg_start, len(result))\n",
            "/usr/local/lib/python3.7/dist-packages/sklearn/metrics/_classification.py:1318: UndefinedMetricWarning: Recall is ill-defined and being set to 0.0 in labels with no true samples. Use `zero_division` parameter to control this behavior.\n",
            "  _warn_prf(average, modifier, msg_start, len(result))\n",
            "/usr/local/lib/python3.7/dist-packages/sklearn/metrics/_classification.py:1318: UndefinedMetricWarning: Recall is ill-defined and being set to 0.0 in labels with no true samples. Use `zero_division` parameter to control this behavior.\n",
            "  _warn_prf(average, modifier, msg_start, len(result))\n",
            "/usr/local/lib/python3.7/dist-packages/sklearn/metrics/_classification.py:1318: UndefinedMetricWarning: Recall is ill-defined and being set to 0.0 in labels with no true samples. Use `zero_division` parameter to control this behavior.\n",
            "  _warn_prf(average, modifier, msg_start, len(result))\n",
            "/usr/local/lib/python3.7/dist-packages/sklearn/metrics/_classification.py:1318: UndefinedMetricWarning: Recall is ill-defined and being set to 0.0 in labels with no true samples. Use `zero_division` parameter to control this behavior.\n",
            "  _warn_prf(average, modifier, msg_start, len(result))\n"
          ]
        },
        {
          "output_type": "stream",
          "name": "stdout",
          "text": [
            "{'accuracy': 0.9859114583333334,\n",
            " 'f1_macro': 0.540130980067028,\n",
            " 'f1_micro': 0.9859114583333334,\n",
            " 'f1_weighted': 0.9850859853702739,\n",
            " 'recall_macro': 0.5711297928000121,\n",
            " 'recall_micro': 0.9859114583333334,\n",
            " 'recall_weighted': 0.9859114583333334}\n"
          ]
        },
        {
          "output_type": "stream",
          "name": "stderr",
          "text": [
            "100%|██████████| 675/675 [04:05<00:00,  2.75it/s]"
          ]
        },
        {
          "output_type": "stream",
          "name": "stdout",
          "text": [
            "Epochs: 4 Loss: 187.29292352497578\n"
          ]
        },
        {
          "output_type": "stream",
          "name": "stderr",
          "text": [
            "\n",
            "/usr/local/lib/python3.7/dist-packages/sklearn/metrics/_classification.py:1318: UndefinedMetricWarning: Recall is ill-defined and being set to 0.0 in labels with no true samples. Use `zero_division` parameter to control this behavior.\n",
            "  _warn_prf(average, modifier, msg_start, len(result))\n",
            "/usr/local/lib/python3.7/dist-packages/sklearn/metrics/_classification.py:1318: UndefinedMetricWarning: Recall is ill-defined and being set to 0.0 in labels with no true samples. Use `zero_division` parameter to control this behavior.\n",
            "  _warn_prf(average, modifier, msg_start, len(result))\n",
            "/usr/local/lib/python3.7/dist-packages/sklearn/metrics/_classification.py:1318: UndefinedMetricWarning: Recall is ill-defined and being set to 0.0 in labels with no true samples. Use `zero_division` parameter to control this behavior.\n",
            "  _warn_prf(average, modifier, msg_start, len(result))\n",
            "/usr/local/lib/python3.7/dist-packages/sklearn/metrics/_classification.py:1318: UndefinedMetricWarning: Recall is ill-defined and being set to 0.0 in labels with no true samples. Use `zero_division` parameter to control this behavior.\n",
            "  _warn_prf(average, modifier, msg_start, len(result))\n",
            "/usr/local/lib/python3.7/dist-packages/sklearn/metrics/_classification.py:1318: UndefinedMetricWarning: Recall is ill-defined and being set to 0.0 in labels with no true samples. Use `zero_division` parameter to control this behavior.\n",
            "  _warn_prf(average, modifier, msg_start, len(result))\n",
            "/usr/local/lib/python3.7/dist-packages/sklearn/metrics/_classification.py:1318: UndefinedMetricWarning: Recall is ill-defined and being set to 0.0 in labels with no true samples. Use `zero_division` parameter to control this behavior.\n",
            "  _warn_prf(average, modifier, msg_start, len(result))\n",
            "/usr/local/lib/python3.7/dist-packages/sklearn/metrics/_classification.py:1318: UndefinedMetricWarning: Recall is ill-defined and being set to 0.0 in labels with no true samples. Use `zero_division` parameter to control this behavior.\n",
            "  _warn_prf(average, modifier, msg_start, len(result))\n",
            "/usr/local/lib/python3.7/dist-packages/sklearn/metrics/_classification.py:1318: UndefinedMetricWarning: Recall is ill-defined and being set to 0.0 in labels with no true samples. Use `zero_division` parameter to control this behavior.\n",
            "  _warn_prf(average, modifier, msg_start, len(result))\n",
            "/usr/local/lib/python3.7/dist-packages/sklearn/metrics/_classification.py:1318: UndefinedMetricWarning: Recall is ill-defined and being set to 0.0 in labels with no true samples. Use `zero_division` parameter to control this behavior.\n",
            "  _warn_prf(average, modifier, msg_start, len(result))\n",
            "/usr/local/lib/python3.7/dist-packages/sklearn/metrics/_classification.py:1318: UndefinedMetricWarning: Recall is ill-defined and being set to 0.0 in labels with no true samples. Use `zero_division` parameter to control this behavior.\n",
            "  _warn_prf(average, modifier, msg_start, len(result))\n",
            "/usr/local/lib/python3.7/dist-packages/sklearn/metrics/_classification.py:1318: UndefinedMetricWarning: Recall is ill-defined and being set to 0.0 in labels with no true samples. Use `zero_division` parameter to control this behavior.\n",
            "  _warn_prf(average, modifier, msg_start, len(result))\n",
            "/usr/local/lib/python3.7/dist-packages/sklearn/metrics/_classification.py:1318: UndefinedMetricWarning: Recall is ill-defined and being set to 0.0 in labels with no true samples. Use `zero_division` parameter to control this behavior.\n",
            "  _warn_prf(average, modifier, msg_start, len(result))\n",
            "/usr/local/lib/python3.7/dist-packages/sklearn/metrics/_classification.py:1318: UndefinedMetricWarning: Recall is ill-defined and being set to 0.0 in labels with no true samples. Use `zero_division` parameter to control this behavior.\n",
            "  _warn_prf(average, modifier, msg_start, len(result))\n",
            "/usr/local/lib/python3.7/dist-packages/sklearn/metrics/_classification.py:1318: UndefinedMetricWarning: Recall is ill-defined and being set to 0.0 in labels with no true samples. Use `zero_division` parameter to control this behavior.\n",
            "  _warn_prf(average, modifier, msg_start, len(result))\n",
            "/usr/local/lib/python3.7/dist-packages/sklearn/metrics/_classification.py:1318: UndefinedMetricWarning: Recall is ill-defined and being set to 0.0 in labels with no true samples. Use `zero_division` parameter to control this behavior.\n",
            "  _warn_prf(average, modifier, msg_start, len(result))\n",
            "/usr/local/lib/python3.7/dist-packages/sklearn/metrics/_classification.py:1318: UndefinedMetricWarning: Recall is ill-defined and being set to 0.0 in labels with no true samples. Use `zero_division` parameter to control this behavior.\n",
            "  _warn_prf(average, modifier, msg_start, len(result))\n",
            "/usr/local/lib/python3.7/dist-packages/sklearn/metrics/_classification.py:1318: UndefinedMetricWarning: Recall is ill-defined and being set to 0.0 in labels with no true samples. Use `zero_division` parameter to control this behavior.\n",
            "  _warn_prf(average, modifier, msg_start, len(result))\n",
            "/usr/local/lib/python3.7/dist-packages/sklearn/metrics/_classification.py:1318: UndefinedMetricWarning: Recall is ill-defined and being set to 0.0 in labels with no true samples. Use `zero_division` parameter to control this behavior.\n",
            "  _warn_prf(average, modifier, msg_start, len(result))\n",
            "/usr/local/lib/python3.7/dist-packages/sklearn/metrics/_classification.py:1318: UndefinedMetricWarning: Recall is ill-defined and being set to 0.0 in labels with no true samples. Use `zero_division` parameter to control this behavior.\n",
            "  _warn_prf(average, modifier, msg_start, len(result))\n",
            "/usr/local/lib/python3.7/dist-packages/sklearn/metrics/_classification.py:1318: UndefinedMetricWarning: Recall is ill-defined and being set to 0.0 in labels with no true samples. Use `zero_division` parameter to control this behavior.\n",
            "  _warn_prf(average, modifier, msg_start, len(result))\n",
            "/usr/local/lib/python3.7/dist-packages/sklearn/metrics/_classification.py:1318: UndefinedMetricWarning: Recall is ill-defined and being set to 0.0 in labels with no true samples. Use `zero_division` parameter to control this behavior.\n",
            "  _warn_prf(average, modifier, msg_start, len(result))\n",
            "/usr/local/lib/python3.7/dist-packages/sklearn/metrics/_classification.py:1318: UndefinedMetricWarning: Recall is ill-defined and being set to 0.0 in labels with no true samples. Use `zero_division` parameter to control this behavior.\n",
            "  _warn_prf(average, modifier, msg_start, len(result))\n",
            "/usr/local/lib/python3.7/dist-packages/sklearn/metrics/_classification.py:1318: UndefinedMetricWarning: Recall is ill-defined and being set to 0.0 in labels with no true samples. Use `zero_division` parameter to control this behavior.\n",
            "  _warn_prf(average, modifier, msg_start, len(result))\n",
            "/usr/local/lib/python3.7/dist-packages/sklearn/metrics/_classification.py:1318: UndefinedMetricWarning: Recall is ill-defined and being set to 0.0 in labels with no true samples. Use `zero_division` parameter to control this behavior.\n",
            "  _warn_prf(average, modifier, msg_start, len(result))\n",
            "/usr/local/lib/python3.7/dist-packages/sklearn/metrics/_classification.py:1318: UndefinedMetricWarning: Recall is ill-defined and being set to 0.0 in labels with no true samples. Use `zero_division` parameter to control this behavior.\n",
            "  _warn_prf(average, modifier, msg_start, len(result))\n",
            "/usr/local/lib/python3.7/dist-packages/sklearn/metrics/_classification.py:1318: UndefinedMetricWarning: Recall is ill-defined and being set to 0.0 in labels with no true samples. Use `zero_division` parameter to control this behavior.\n",
            "  _warn_prf(average, modifier, msg_start, len(result))\n",
            "/usr/local/lib/python3.7/dist-packages/sklearn/metrics/_classification.py:1318: UndefinedMetricWarning: Recall is ill-defined and being set to 0.0 in labels with no true samples. Use `zero_division` parameter to control this behavior.\n",
            "  _warn_prf(average, modifier, msg_start, len(result))\n",
            "/usr/local/lib/python3.7/dist-packages/sklearn/metrics/_classification.py:1318: UndefinedMetricWarning: Recall is ill-defined and being set to 0.0 in labels with no true samples. Use `zero_division` parameter to control this behavior.\n",
            "  _warn_prf(average, modifier, msg_start, len(result))\n",
            "/usr/local/lib/python3.7/dist-packages/sklearn/metrics/_classification.py:1318: UndefinedMetricWarning: Recall is ill-defined and being set to 0.0 in labels with no true samples. Use `zero_division` parameter to control this behavior.\n",
            "  _warn_prf(average, modifier, msg_start, len(result))\n",
            "/usr/local/lib/python3.7/dist-packages/sklearn/metrics/_classification.py:1318: UndefinedMetricWarning: Recall is ill-defined and being set to 0.0 in labels with no true samples. Use `zero_division` parameter to control this behavior.\n",
            "  _warn_prf(average, modifier, msg_start, len(result))\n",
            "/usr/local/lib/python3.7/dist-packages/sklearn/metrics/_classification.py:1318: UndefinedMetricWarning: Recall is ill-defined and being set to 0.0 in labels with no true samples. Use `zero_division` parameter to control this behavior.\n",
            "  _warn_prf(average, modifier, msg_start, len(result))\n",
            "/usr/local/lib/python3.7/dist-packages/sklearn/metrics/_classification.py:1318: UndefinedMetricWarning: Recall is ill-defined and being set to 0.0 in labels with no true samples. Use `zero_division` parameter to control this behavior.\n",
            "  _warn_prf(average, modifier, msg_start, len(result))\n",
            "/usr/local/lib/python3.7/dist-packages/sklearn/metrics/_classification.py:1318: UndefinedMetricWarning: Recall is ill-defined and being set to 0.0 in labels with no true samples. Use `zero_division` parameter to control this behavior.\n",
            "  _warn_prf(average, modifier, msg_start, len(result))\n",
            "/usr/local/lib/python3.7/dist-packages/sklearn/metrics/_classification.py:1318: UndefinedMetricWarning: Recall is ill-defined and being set to 0.0 in labels with no true samples. Use `zero_division` parameter to control this behavior.\n",
            "  _warn_prf(average, modifier, msg_start, len(result))\n",
            "/usr/local/lib/python3.7/dist-packages/sklearn/metrics/_classification.py:1318: UndefinedMetricWarning: Recall is ill-defined and being set to 0.0 in labels with no true samples. Use `zero_division` parameter to control this behavior.\n",
            "  _warn_prf(average, modifier, msg_start, len(result))\n",
            "/usr/local/lib/python3.7/dist-packages/sklearn/metrics/_classification.py:1318: UndefinedMetricWarning: Recall is ill-defined and being set to 0.0 in labels with no true samples. Use `zero_division` parameter to control this behavior.\n",
            "  _warn_prf(average, modifier, msg_start, len(result))\n"
          ]
        },
        {
          "output_type": "stream",
          "name": "stdout",
          "text": [
            "{'accuracy': 0.9870833333333333,\n",
            " 'f1_macro': 0.592496623838009,\n",
            " 'f1_micro': 0.9870833333333333,\n",
            " 'f1_weighted': 0.9859570248255648,\n",
            " 'recall_macro': 0.6097781957645129,\n",
            " 'recall_micro': 0.9870833333333333,\n",
            " 'recall_weighted': 0.9870833333333333}\n"
          ]
        }
      ]
    },
    {
      "cell_type": "code",
      "source": [
        "evaluate(model.cpu(), test_dataloader)"
      ],
      "metadata": {
        "colab": {
          "base_uri": "https://localhost:8080/"
        },
        "id": "JARKiijd7fUT",
        "outputId": "e31e154a-0223-4a0f-c4a5-dec29b07d3b1"
      },
      "execution_count": 18,
      "outputs": [
        {
          "output_type": "stream",
          "name": "stderr",
          "text": [
            "/usr/local/lib/python3.7/dist-packages/sklearn/metrics/_classification.py:1318: UndefinedMetricWarning: Recall is ill-defined and being set to 0.0 in labels with no true samples. Use `zero_division` parameter to control this behavior.\n",
            "  _warn_prf(average, modifier, msg_start, len(result))\n",
            "/usr/local/lib/python3.7/dist-packages/sklearn/metrics/_classification.py:1318: UndefinedMetricWarning: Recall is ill-defined and being set to 0.0 in labels with no true samples. Use `zero_division` parameter to control this behavior.\n",
            "  _warn_prf(average, modifier, msg_start, len(result))\n",
            "/usr/local/lib/python3.7/dist-packages/sklearn/metrics/_classification.py:1318: UndefinedMetricWarning: Recall is ill-defined and being set to 0.0 in labels with no true samples. Use `zero_division` parameter to control this behavior.\n",
            "  _warn_prf(average, modifier, msg_start, len(result))\n",
            "/usr/local/lib/python3.7/dist-packages/sklearn/metrics/_classification.py:1318: UndefinedMetricWarning: Recall is ill-defined and being set to 0.0 in labels with no true samples. Use `zero_division` parameter to control this behavior.\n",
            "  _warn_prf(average, modifier, msg_start, len(result))\n",
            "/usr/local/lib/python3.7/dist-packages/sklearn/metrics/_classification.py:1318: UndefinedMetricWarning: Recall is ill-defined and being set to 0.0 in labels with no true samples. Use `zero_division` parameter to control this behavior.\n",
            "  _warn_prf(average, modifier, msg_start, len(result))\n",
            "/usr/local/lib/python3.7/dist-packages/sklearn/metrics/_classification.py:1318: UndefinedMetricWarning: Recall is ill-defined and being set to 0.0 in labels with no true samples. Use `zero_division` parameter to control this behavior.\n",
            "  _warn_prf(average, modifier, msg_start, len(result))\n",
            "/usr/local/lib/python3.7/dist-packages/sklearn/metrics/_classification.py:1318: UndefinedMetricWarning: Recall is ill-defined and being set to 0.0 in labels with no true samples. Use `zero_division` parameter to control this behavior.\n",
            "  _warn_prf(average, modifier, msg_start, len(result))\n",
            "/usr/local/lib/python3.7/dist-packages/sklearn/metrics/_classification.py:1318: UndefinedMetricWarning: Recall is ill-defined and being set to 0.0 in labels with no true samples. Use `zero_division` parameter to control this behavior.\n",
            "  _warn_prf(average, modifier, msg_start, len(result))\n",
            "/usr/local/lib/python3.7/dist-packages/sklearn/metrics/_classification.py:1318: UndefinedMetricWarning: Recall is ill-defined and being set to 0.0 in labels with no true samples. Use `zero_division` parameter to control this behavior.\n",
            "  _warn_prf(average, modifier, msg_start, len(result))\n",
            "/usr/local/lib/python3.7/dist-packages/sklearn/metrics/_classification.py:1318: UndefinedMetricWarning: Recall is ill-defined and being set to 0.0 in labels with no true samples. Use `zero_division` parameter to control this behavior.\n",
            "  _warn_prf(average, modifier, msg_start, len(result))\n",
            "/usr/local/lib/python3.7/dist-packages/sklearn/metrics/_classification.py:1318: UndefinedMetricWarning: Recall is ill-defined and being set to 0.0 in labels with no true samples. Use `zero_division` parameter to control this behavior.\n",
            "  _warn_prf(average, modifier, msg_start, len(result))\n",
            "/usr/local/lib/python3.7/dist-packages/sklearn/metrics/_classification.py:1318: UndefinedMetricWarning: Recall is ill-defined and being set to 0.0 in labels with no true samples. Use `zero_division` parameter to control this behavior.\n",
            "  _warn_prf(average, modifier, msg_start, len(result))\n",
            "/usr/local/lib/python3.7/dist-packages/sklearn/metrics/_classification.py:1318: UndefinedMetricWarning: Recall is ill-defined and being set to 0.0 in labels with no true samples. Use `zero_division` parameter to control this behavior.\n",
            "  _warn_prf(average, modifier, msg_start, len(result))\n",
            "/usr/local/lib/python3.7/dist-packages/sklearn/metrics/_classification.py:1318: UndefinedMetricWarning: Recall is ill-defined and being set to 0.0 in labels with no true samples. Use `zero_division` parameter to control this behavior.\n",
            "  _warn_prf(average, modifier, msg_start, len(result))\n",
            "/usr/local/lib/python3.7/dist-packages/sklearn/metrics/_classification.py:1318: UndefinedMetricWarning: Recall is ill-defined and being set to 0.0 in labels with no true samples. Use `zero_division` parameter to control this behavior.\n",
            "  _warn_prf(average, modifier, msg_start, len(result))\n",
            "/usr/local/lib/python3.7/dist-packages/sklearn/metrics/_classification.py:1318: UndefinedMetricWarning: Recall is ill-defined and being set to 0.0 in labels with no true samples. Use `zero_division` parameter to control this behavior.\n",
            "  _warn_prf(average, modifier, msg_start, len(result))\n",
            "/usr/local/lib/python3.7/dist-packages/sklearn/metrics/_classification.py:1318: UndefinedMetricWarning: Recall is ill-defined and being set to 0.0 in labels with no true samples. Use `zero_division` parameter to control this behavior.\n",
            "  _warn_prf(average, modifier, msg_start, len(result))\n",
            "/usr/local/lib/python3.7/dist-packages/sklearn/metrics/_classification.py:1318: UndefinedMetricWarning: Recall is ill-defined and being set to 0.0 in labels with no true samples. Use `zero_division` parameter to control this behavior.\n",
            "  _warn_prf(average, modifier, msg_start, len(result))\n",
            "/usr/local/lib/python3.7/dist-packages/sklearn/metrics/_classification.py:1318: UndefinedMetricWarning: Recall is ill-defined and being set to 0.0 in labels with no true samples. Use `zero_division` parameter to control this behavior.\n",
            "  _warn_prf(average, modifier, msg_start, len(result))\n",
            "/usr/local/lib/python3.7/dist-packages/sklearn/metrics/_classification.py:1318: UndefinedMetricWarning: Recall is ill-defined and being set to 0.0 in labels with no true samples. Use `zero_division` parameter to control this behavior.\n",
            "  _warn_prf(average, modifier, msg_start, len(result))\n",
            "/usr/local/lib/python3.7/dist-packages/sklearn/metrics/_classification.py:1318: UndefinedMetricWarning: Recall is ill-defined and being set to 0.0 in labels with no true samples. Use `zero_division` parameter to control this behavior.\n",
            "  _warn_prf(average, modifier, msg_start, len(result))\n",
            "/usr/local/lib/python3.7/dist-packages/sklearn/metrics/_classification.py:1318: UndefinedMetricWarning: Recall is ill-defined and being set to 0.0 in labels with no true samples. Use `zero_division` parameter to control this behavior.\n",
            "  _warn_prf(average, modifier, msg_start, len(result))\n",
            "/usr/local/lib/python3.7/dist-packages/sklearn/metrics/_classification.py:1318: UndefinedMetricWarning: Recall is ill-defined and being set to 0.0 in labels with no true samples. Use `zero_division` parameter to control this behavior.\n",
            "  _warn_prf(average, modifier, msg_start, len(result))\n",
            "/usr/local/lib/python3.7/dist-packages/sklearn/metrics/_classification.py:1318: UndefinedMetricWarning: Recall is ill-defined and being set to 0.0 in labels with no true samples. Use `zero_division` parameter to control this behavior.\n",
            "  _warn_prf(average, modifier, msg_start, len(result))\n",
            "/usr/local/lib/python3.7/dist-packages/sklearn/metrics/_classification.py:1318: UndefinedMetricWarning: Recall is ill-defined and being set to 0.0 in labels with no true samples. Use `zero_division` parameter to control this behavior.\n",
            "  _warn_prf(average, modifier, msg_start, len(result))\n",
            "/usr/local/lib/python3.7/dist-packages/sklearn/metrics/_classification.py:1318: UndefinedMetricWarning: Recall is ill-defined and being set to 0.0 in labels with no true samples. Use `zero_division` parameter to control this behavior.\n",
            "  _warn_prf(average, modifier, msg_start, len(result))\n",
            "/usr/local/lib/python3.7/dist-packages/sklearn/metrics/_classification.py:1318: UndefinedMetricWarning: Recall is ill-defined and being set to 0.0 in labels with no true samples. Use `zero_division` parameter to control this behavior.\n",
            "  _warn_prf(average, modifier, msg_start, len(result))\n",
            "/usr/local/lib/python3.7/dist-packages/sklearn/metrics/_classification.py:1318: UndefinedMetricWarning: Recall is ill-defined and being set to 0.0 in labels with no true samples. Use `zero_division` parameter to control this behavior.\n",
            "  _warn_prf(average, modifier, msg_start, len(result))\n",
            "/usr/local/lib/python3.7/dist-packages/sklearn/metrics/_classification.py:1318: UndefinedMetricWarning: Recall is ill-defined and being set to 0.0 in labels with no true samples. Use `zero_division` parameter to control this behavior.\n",
            "  _warn_prf(average, modifier, msg_start, len(result))\n",
            "/usr/local/lib/python3.7/dist-packages/sklearn/metrics/_classification.py:1318: UndefinedMetricWarning: Recall is ill-defined and being set to 0.0 in labels with no true samples. Use `zero_division` parameter to control this behavior.\n",
            "  _warn_prf(average, modifier, msg_start, len(result))\n",
            "/usr/local/lib/python3.7/dist-packages/sklearn/metrics/_classification.py:1318: UndefinedMetricWarning: Recall is ill-defined and being set to 0.0 in labels with no true samples. Use `zero_division` parameter to control this behavior.\n",
            "  _warn_prf(average, modifier, msg_start, len(result))\n",
            "/usr/local/lib/python3.7/dist-packages/sklearn/metrics/_classification.py:1318: UndefinedMetricWarning: Recall is ill-defined and being set to 0.0 in labels with no true samples. Use `zero_division` parameter to control this behavior.\n",
            "  _warn_prf(average, modifier, msg_start, len(result))\n"
          ]
        },
        {
          "output_type": "stream",
          "name": "stdout",
          "text": [
            "{'accuracy': 0.984453125,\n",
            " 'f1_macro': 0.516341846935844,\n",
            " 'f1_micro': 0.984453125,\n",
            " 'f1_weighted': 0.9828332826075371,\n",
            " 'recall_macro': 0.5232540957053763,\n",
            " 'recall_micro': 0.984453125,\n",
            " 'recall_weighted': 0.984453125}\n"
          ]
        }
      ]
    },
    {
      "cell_type": "markdown",
      "source": [
        "# Results"
      ],
      "metadata": {
        "id": "ezGum4307_Ea"
      }
    },
    {
      "cell_type": "code",
      "source": [
        "def evaluate2(model, val_dataloader):\n",
        "    model.eval()\n",
        "    metrics = []\n",
        "\n",
        "    predictions_list = []\n",
        "    labels = []\n",
        "    i = 0 \n",
        "    for input_batch, batch_labels in val_dataloader:\n",
        "        loss, logits = model(input_batch, batch_labels)\n",
        "        predictions = logits.argmax(dim=2)\n",
        "        predictions[batch_labels == -100] = -100\n",
        "        predictions_list.append(predictions)\n",
        "        labels.append(batch_labels)\n",
        "        i += 1\n",
        "        if i == 2:\n",
        "          break\n",
        "    final_predictions = torch.cat(predictions_list, dim=0)\n",
        "    final_labels = torch.cat(labels, dim=0)\n",
        "    pprint(evaluate_metrics(predictions, batch_labels))\n",
        "\n",
        "\n",
        "evaluate2(model.cpu(), test_dataloader)"
      ],
      "metadata": {
        "colab": {
          "base_uri": "https://localhost:8080/"
        },
        "id": "Dd08goaH6k8V",
        "outputId": "eba92908-e39b-4e6c-a468-df66e8323cb0"
      },
      "execution_count": 31,
      "outputs": [
        {
          "output_type": "stream",
          "name": "stdout",
          "text": [
            "{'accuracy': 0.98876953125,\n",
            " 'f1_macro': 0.6477374774659748,\n",
            " 'f1_micro': 0.98876953125,\n",
            " 'f1_weighted': 0.9883442212658404,\n",
            " 'recall_macro': 0.6833901833193394,\n",
            " 'recall_micro': 0.98876953125,\n",
            " 'recall_weighted': 0.98876953125,\n",
            " 'size': 4}\n"
          ]
        }
      ]
    },
    {
      "cell_type": "code",
      "source": [
        "from transformers import pipeline\n",
        "nlp = pipeline(\"ner\", model=model.bert.to('cpu'), tokenizer=tokenizer)\n",
        "# example = \"حسین تقوی به سازمان جهاد کشاورزی رفت.\"\n",
        "# example = 'امین به ایران آمد.'\n",
        "example = \"به گزارش خبرنگار مهر، نماینده ولی فقیه در آذربایجان شرقی پیش از ظهر امروز در مراسم بزرگداشت یوم الله ۱۲ بهمن که در تالار اجتماعات مصلی اعظم امام خمینی ره برگزار شد گفت: مشکلات اقتصادی و تحریم ها در کشور وجود دارد اما باید قدردان انقلاب اسلامی ایران بود و به همین دلیل، باید توگه بیشتری به موفقیت های به دست آمده در طول دوران انقلاب اسلامی داشت. حجت الاسلام و المسلمین سید محمد علی آل هاشم ادامه داد: سرعت پیشرفت علم در ایران بعد از انقلاب اسلامی و هم اکنون، ۱۱ برابر دنیاست؛ امروزه جمهوری اسلامی ایران، هشتمین کشور تولید کننده اورانیوم ۲۰ درصد جهان است\"\n",
        "# example = \"به گزارش برنا؛ تقریبا از اسفند ماه سال گذشته واکسیناسیون عمومی در کشور با واردات واکسن های خارجی کرونا انجام شد و این روند به صورتی بود که محموله های جدید واکسن پس از خریداری شدن به کشور وارد می شد و تزریق ها برای گروه های اولویت دار انجام می گرفت البته در این میان جهش های جدیدی از ویروس در کشور زیاد شد و در مقابل واردات واکسن های خارجی با مشکلاتی مواجه بود و مسیر این اقدام با پستی ها و بلندی های زیادی رو به رو شد اما در حال حاضر با وجود همه اتفاقات بنا به گفته مسئولان ستاد مقابله با کرونا دو هفته ای از برنامه واکسیناسیون عقب هستیم و دلیل اصلی این اتفاق محدودیت وجود واکسن است. مسعود یونسیان، استاد اپیدمیولوژی دانشگاه علوم پزشکی تهران در گفت وگو با خبرنگار برنا درباره خرید واکسن های خارجی توسط شرکت های خصوصی گفت: دولت از خرید واکسن شرکت های خصوصی استقبال می کند و اصولا بسیاری از کشور های دیگر نیز واردات واکسن های خارجی را به شرکت های خصوصی سپرده اند اما در نهایت تحویل وزارت بهداشت می شود\"\n",
        "ner_results = nlp(example)\n",
        "print(ner_results)\n",
        "pprint(list(zip(\n",
        "    list(map(lambda x: x['word'], ner_results)),\n",
        "    list(map(lambda x: ids_to_labels[int(x['entity'].split('_')[1])], ner_results))\n",
        ")))"
      ],
      "metadata": {
        "colab": {
          "base_uri": "https://localhost:8080/"
        },
        "id": "8I_EU2p0vzW-",
        "outputId": "3d1ea38b-b7a5-4330-e5e2-b63d795d7666"
      },
      "execution_count": 25,
      "outputs": [
        {
          "output_type": "stream",
          "name": "stdout",
          "text": [
            "[{'entity': 'LABEL_0', 'score': 0.9993088, 'index': 1, 'word': 'به', 'start': 0, 'end': 2}, {'entity': 'LABEL_0', 'score': 0.99865204, 'index': 2, 'word': 'گزارش', 'start': 3, 'end': 8}, {'entity': 'LABEL_2', 'score': 0.5433502, 'index': 3, 'word': 'خبرنگار', 'start': 9, 'end': 16}, {'entity': 'LABEL_1', 'score': 0.45989388, 'index': 4, 'word': 'مهر', 'start': 17, 'end': 20}, {'entity': 'LABEL_0', 'score': 0.774485, 'index': 5, 'word': '،', 'start': 20, 'end': 21}, {'entity': 'LABEL_0', 'score': 0.70497364, 'index': 6, 'word': 'نماینده', 'start': 22, 'end': 29}, {'entity': 'LABEL_0', 'score': 0.46828848, 'index': 7, 'word': 'ولی', 'start': 30, 'end': 33}, {'entity': 'LABEL_0', 'score': 0.5230382, 'index': 8, 'word': 'فقیه', 'start': 34, 'end': 38}, {'entity': 'LABEL_0', 'score': 0.83865184, 'index': 9, 'word': 'در', 'start': 39, 'end': 41}, {'entity': 'LABEL_5', 'score': 0.63619685, 'index': 10, 'word': 'اذربایجان', 'start': 42, 'end': 51}, {'entity': 'LABEL_13', 'score': 0.6375157, 'index': 11, 'word': 'شرقی', 'start': 52, 'end': 56}, {'entity': 'LABEL_0', 'score': 0.53522104, 'index': 12, 'word': 'پیش', 'start': 57, 'end': 60}, {'entity': 'LABEL_0', 'score': 0.4726077, 'index': 13, 'word': 'از', 'start': 61, 'end': 63}, {'entity': 'LABEL_4', 'score': 0.35203254, 'index': 14, 'word': 'ظهر', 'start': 64, 'end': 67}, {'entity': 'LABEL_12', 'score': 0.31650633, 'index': 15, 'word': 'امروز', 'start': 68, 'end': 73}, {'entity': 'LABEL_0', 'score': 0.99708384, 'index': 16, 'word': 'در', 'start': 74, 'end': 76}, {'entity': 'LABEL_6', 'score': 0.5656407, 'index': 17, 'word': 'مراسم', 'start': 77, 'end': 82}, {'entity': 'LABEL_14', 'score': 0.5129497, 'index': 18, 'word': 'بزرگداشت', 'start': 83, 'end': 91}, {'entity': 'LABEL_14', 'score': 0.49466628, 'index': 19, 'word': 'یوم', 'start': 92, 'end': 95}, {'entity': 'LABEL_14', 'score': 0.87847805, 'index': 20, 'word': 'الله', 'start': 96, 'end': 100}, {'entity': 'LABEL_14', 'score': 0.7264236, 'index': 21, 'word': '۱۲', 'start': 101, 'end': 103}, {'entity': 'LABEL_14', 'score': 0.7252217, 'index': 22, 'word': 'بهمن', 'start': 104, 'end': 108}, {'entity': 'LABEL_0', 'score': 0.97648346, 'index': 23, 'word': 'که', 'start': 109, 'end': 111}, {'entity': 'LABEL_0', 'score': 0.98217666, 'index': 24, 'word': 'در', 'start': 112, 'end': 114}, {'entity': 'LABEL_5', 'score': 0.4415866, 'index': 25, 'word': 'تالار', 'start': 115, 'end': 120}, {'entity': 'LABEL_13', 'score': 0.4525177, 'index': 26, 'word': 'اجتماعات', 'start': 121, 'end': 129}, {'entity': 'LABEL_15', 'score': 0.3002563, 'index': 27, 'word': 'مصلی', 'start': 130, 'end': 134}, {'entity': 'LABEL_13', 'score': 0.6143418, 'index': 28, 'word': 'اعظم', 'start': 135, 'end': 139}, {'entity': 'LABEL_13', 'score': 0.60815305, 'index': 29, 'word': 'امام', 'start': 140, 'end': 144}, {'entity': 'LABEL_13', 'score': 0.68123305, 'index': 30, 'word': 'خمینی', 'start': 145, 'end': 150}, {'entity': 'LABEL_13', 'score': 0.5802407, 'index': 31, 'word': 'ره', 'start': 151, 'end': 153}, {'entity': 'LABEL_0', 'score': 0.9871656, 'index': 32, 'word': 'برگزار', 'start': 154, 'end': 160}, {'entity': 'LABEL_0', 'score': 0.99387735, 'index': 33, 'word': 'شد', 'start': 161, 'end': 163}, {'entity': 'LABEL_0', 'score': 0.9990815, 'index': 34, 'word': 'گفت', 'start': 164, 'end': 167}, {'entity': 'LABEL_0', 'score': 0.99863535, 'index': 35, 'word': ':', 'start': 167, 'end': 168}, {'entity': 'LABEL_0', 'score': 0.997018, 'index': 36, 'word': 'مشکلات', 'start': 169, 'end': 175}, {'entity': 'LABEL_0', 'score': 0.9960289, 'index': 37, 'word': 'اقتصادی', 'start': 176, 'end': 183}, {'entity': 'LABEL_0', 'score': 0.9956468, 'index': 38, 'word': 'و', 'start': 184, 'end': 185}, {'entity': 'LABEL_0', 'score': 0.99049616, 'index': 39, 'word': 'تحریم', 'start': 186, 'end': 191}, {'entity': 'LABEL_0', 'score': 0.9965115, 'index': 40, 'word': 'ها', 'start': 192, 'end': 194}, {'entity': 'LABEL_0', 'score': 0.998613, 'index': 41, 'word': 'در', 'start': 195, 'end': 197}, {'entity': 'LABEL_0', 'score': 0.9897629, 'index': 42, 'word': 'کشور', 'start': 198, 'end': 202}, {'entity': 'LABEL_0', 'score': 0.9991518, 'index': 43, 'word': 'وجود', 'start': 203, 'end': 207}, {'entity': 'LABEL_0', 'score': 0.99926525, 'index': 44, 'word': 'دارد', 'start': 208, 'end': 212}, {'entity': 'LABEL_0', 'score': 0.9995641, 'index': 45, 'word': 'اما', 'start': 213, 'end': 216}, {'entity': 'LABEL_0', 'score': 0.9995788, 'index': 46, 'word': 'باید', 'start': 217, 'end': 221}, {'entity': 'LABEL_0', 'score': 0.9994466, 'index': 47, 'word': 'قدردان', 'start': 222, 'end': 228}, {'entity': 'LABEL_6', 'score': 0.74684644, 'index': 48, 'word': 'انقلاب', 'start': 229, 'end': 235}, {'entity': 'LABEL_14', 'score': 0.62126195, 'index': 49, 'word': 'اسلامی', 'start': 236, 'end': 242}, {'entity': 'LABEL_14', 'score': 0.48031932, 'index': 50, 'word': 'ایران', 'start': 243, 'end': 248}, {'entity': 'LABEL_0', 'score': 0.9990753, 'index': 51, 'word': 'بود', 'start': 249, 'end': 252}, {'entity': 'LABEL_0', 'score': 0.99950457, 'index': 52, 'word': 'و', 'start': 253, 'end': 254}, {'entity': 'LABEL_0', 'score': 0.99946064, 'index': 53, 'word': 'به', 'start': 255, 'end': 257}, {'entity': 'LABEL_0', 'score': 0.99951375, 'index': 54, 'word': 'همین', 'start': 258, 'end': 262}, {'entity': 'LABEL_0', 'score': 0.9992029, 'index': 55, 'word': 'دلیل', 'start': 263, 'end': 267}, {'entity': 'LABEL_0', 'score': 0.99765503, 'index': 56, 'word': '،', 'start': 267, 'end': 268}, {'entity': 'LABEL_0', 'score': 0.999634, 'index': 57, 'word': 'باید', 'start': 269, 'end': 273}, {'entity': 'LABEL_0', 'score': 0.99198604, 'index': 58, 'word': 'توگ', 'start': 274, 'end': 277}, {'entity': 'LABEL_0', 'score': 0.99907374, 'index': 59, 'word': '##ه', 'start': 277, 'end': 278}, {'entity': 'LABEL_0', 'score': 0.9993773, 'index': 60, 'word': 'بیشتری', 'start': 279, 'end': 285}, {'entity': 'LABEL_0', 'score': 0.99963164, 'index': 61, 'word': 'به', 'start': 286, 'end': 288}, {'entity': 'LABEL_0', 'score': 0.9976532, 'index': 62, 'word': 'موفقیت', 'start': 289, 'end': 295}, {'entity': 'LABEL_0', 'score': 0.9987109, 'index': 63, 'word': 'های', 'start': 296, 'end': 299}, {'entity': 'LABEL_0', 'score': 0.9983559, 'index': 64, 'word': 'به', 'start': 300, 'end': 302}, {'entity': 'LABEL_0', 'score': 0.9986035, 'index': 65, 'word': 'دست', 'start': 303, 'end': 306}, {'entity': 'LABEL_0', 'score': 0.998047, 'index': 66, 'word': 'امده', 'start': 307, 'end': 311}, {'entity': 'LABEL_0', 'score': 0.9971295, 'index': 67, 'word': 'در', 'start': 312, 'end': 314}, {'entity': 'LABEL_0', 'score': 0.9759477, 'index': 68, 'word': 'طول', 'start': 315, 'end': 318}, {'entity': 'LABEL_0', 'score': 0.8799108, 'index': 69, 'word': 'دوران', 'start': 319, 'end': 324}, {'entity': 'LABEL_6', 'score': 0.75419825, 'index': 70, 'word': 'انقلاب', 'start': 325, 'end': 331}, {'entity': 'LABEL_14', 'score': 0.6711642, 'index': 71, 'word': 'اسلامی', 'start': 332, 'end': 338}, {'entity': 'LABEL_0', 'score': 0.99950135, 'index': 72, 'word': 'داشت', 'start': 339, 'end': 343}, {'entity': 'LABEL_0', 'score': 0.998181, 'index': 73, 'word': '.', 'start': 343, 'end': 344}, {'entity': 'LABEL_0', 'score': 0.90112, 'index': 74, 'word': 'حجت', 'start': 345, 'end': 348}, {'entity': 'LABEL_0', 'score': 0.8499961, 'index': 75, 'word': 'الاسلام', 'start': 349, 'end': 356}, {'entity': 'LABEL_0', 'score': 0.77159405, 'index': 76, 'word': 'و', 'start': 357, 'end': 358}, {'entity': 'LABEL_0', 'score': 0.7705897, 'index': 77, 'word': 'المسلمین', 'start': 359, 'end': 367}, {'entity': 'LABEL_2', 'score': 0.5403412, 'index': 78, 'word': 'سید', 'start': 368, 'end': 371}, {'entity': 'LABEL_10', 'score': 0.86673725, 'index': 79, 'word': 'محمد', 'start': 372, 'end': 376}, {'entity': 'LABEL_10', 'score': 0.97436595, 'index': 80, 'word': 'علی', 'start': 377, 'end': 380}, {'entity': 'LABEL_10', 'score': 0.98067296, 'index': 81, 'word': 'ال', 'start': 381, 'end': 383}, {'entity': 'LABEL_10', 'score': 0.9864926, 'index': 82, 'word': 'هاشم', 'start': 384, 'end': 388}, {'entity': 'LABEL_0', 'score': 0.99793494, 'index': 83, 'word': 'ادامه', 'start': 389, 'end': 394}, {'entity': 'LABEL_0', 'score': 0.99834, 'index': 84, 'word': 'داد', 'start': 395, 'end': 398}, {'entity': 'LABEL_0', 'score': 0.998458, 'index': 85, 'word': ':', 'start': 398, 'end': 399}, {'entity': 'LABEL_0', 'score': 0.9977443, 'index': 86, 'word': 'سرعت', 'start': 400, 'end': 404}, {'entity': 'LABEL_0', 'score': 0.9962682, 'index': 87, 'word': 'پیشرفت', 'start': 405, 'end': 411}, {'entity': 'LABEL_0', 'score': 0.99379456, 'index': 88, 'word': 'علم', 'start': 412, 'end': 415}, {'entity': 'LABEL_0', 'score': 0.9958171, 'index': 89, 'word': 'در', 'start': 416, 'end': 418}, {'entity': 'LABEL_5', 'score': 0.7595797, 'index': 90, 'word': 'ایران', 'start': 419, 'end': 424}, {'entity': 'LABEL_0', 'score': 0.991366, 'index': 91, 'word': 'بعد', 'start': 425, 'end': 428}, {'entity': 'LABEL_0', 'score': 0.962789, 'index': 92, 'word': 'از', 'start': 429, 'end': 431}, {'entity': 'LABEL_6', 'score': 0.75839263, 'index': 93, 'word': 'انقلاب', 'start': 432, 'end': 438}, {'entity': 'LABEL_14', 'score': 0.61072135, 'index': 94, 'word': 'اسلامی', 'start': 439, 'end': 445}, {'entity': 'LABEL_0', 'score': 0.9468752, 'index': 95, 'word': 'و', 'start': 446, 'end': 447}, {'entity': 'LABEL_0', 'score': 0.9849162, 'index': 96, 'word': 'هم', 'start': 448, 'end': 450}, {'entity': 'LABEL_0', 'score': 0.99640524, 'index': 97, 'word': 'اکنون', 'start': 451, 'end': 456}, {'entity': 'LABEL_0', 'score': 0.9958546, 'index': 98, 'word': '،', 'start': 456, 'end': 457}, {'entity': 'LABEL_0', 'score': 0.99631894, 'index': 99, 'word': '۱۱', 'start': 458, 'end': 460}, {'entity': 'LABEL_0', 'score': 0.9986644, 'index': 100, 'word': 'برابر', 'start': 461, 'end': 466}, {'entity': 'LABEL_0', 'score': 0.9912704, 'index': 101, 'word': 'دنیاست', 'start': 467, 'end': 473}, {'entity': 'LABEL_0', 'score': 0.99942064, 'index': 102, 'word': '؛', 'start': 473, 'end': 474}, {'entity': 'LABEL_0', 'score': 0.99873036, 'index': 103, 'word': 'امروزه', 'start': 475, 'end': 481}, {'entity': 'LABEL_5', 'score': 0.78279144, 'index': 104, 'word': 'جمهوری', 'start': 482, 'end': 488}, {'entity': 'LABEL_13', 'score': 0.4656293, 'index': 105, 'word': 'اسلامی', 'start': 489, 'end': 495}, {'entity': 'LABEL_13', 'score': 0.4214441, 'index': 106, 'word': 'ایران', 'start': 496, 'end': 501}, {'entity': 'LABEL_0', 'score': 0.9391413, 'index': 107, 'word': '،', 'start': 501, 'end': 502}, {'entity': 'LABEL_0', 'score': 0.9960079, 'index': 108, 'word': 'هشتمین', 'start': 503, 'end': 509}, {'entity': 'LABEL_0', 'score': 0.98637426, 'index': 109, 'word': 'کشور', 'start': 510, 'end': 514}, {'entity': 'LABEL_0', 'score': 0.98966074, 'index': 110, 'word': 'تولید', 'start': 515, 'end': 520}, {'entity': 'LABEL_0', 'score': 0.9912726, 'index': 111, 'word': 'کننده', 'start': 521, 'end': 526}, {'entity': 'LABEL_0', 'score': 0.9884531, 'index': 112, 'word': 'اورانیوم', 'start': 527, 'end': 535}, {'entity': 'LABEL_0', 'score': 0.99019533, 'index': 113, 'word': '۲۰', 'start': 536, 'end': 538}, {'entity': 'LABEL_0', 'score': 0.99602365, 'index': 114, 'word': 'درصد', 'start': 539, 'end': 543}, {'entity': 'LABEL_0', 'score': 0.9624655, 'index': 115, 'word': 'جهان', 'start': 544, 'end': 548}, {'entity': 'LABEL_0', 'score': 0.9992508, 'index': 116, 'word': 'است', 'start': 549, 'end': 552}]\n",
            "[('به', 'O'),\n",
            " ('گزارش', 'O'),\n",
            " ('خبرنگار', 'B_PER'),\n",
            " ('مهر', 'B_ORG'),\n",
            " ('،', 'O'),\n",
            " ('نماینده', 'O'),\n",
            " ('ولی', 'O'),\n",
            " ('فقیه', 'O'),\n",
            " ('در', 'O'),\n",
            " ('اذربایجان', 'B_LOC'),\n",
            " ('شرقی', 'I_LOC'),\n",
            " ('پیش', 'O'),\n",
            " ('از', 'O'),\n",
            " ('ظهر', 'B_TIM'),\n",
            " ('امروز', 'I_TIM'),\n",
            " ('در', 'O'),\n",
            " ('مراسم', 'B_EVE'),\n",
            " ('بزرگداشت', 'I_EVE'),\n",
            " ('یوم', 'I_EVE'),\n",
            " ('الله', 'I_EVE'),\n",
            " ('۱۲', 'I_EVE'),\n",
            " ('بهمن', 'I_EVE'),\n",
            " ('که', 'O'),\n",
            " ('در', 'O'),\n",
            " ('تالار', 'B_LOC'),\n",
            " ('اجتماعات', 'I_LOC'),\n",
            " ('مصلی', 'I_mainLOC'),\n",
            " ('اعظم', 'I_LOC'),\n",
            " ('امام', 'I_LOC'),\n",
            " ('خمینی', 'I_LOC'),\n",
            " ('ره', 'I_LOC'),\n",
            " ('برگزار', 'O'),\n",
            " ('شد', 'O'),\n",
            " ('گفت', 'O'),\n",
            " (':', 'O'),\n",
            " ('مشکلات', 'O'),\n",
            " ('اقتصادی', 'O'),\n",
            " ('و', 'O'),\n",
            " ('تحریم', 'O'),\n",
            " ('ها', 'O'),\n",
            " ('در', 'O'),\n",
            " ('کشور', 'O'),\n",
            " ('وجود', 'O'),\n",
            " ('دارد', 'O'),\n",
            " ('اما', 'O'),\n",
            " ('باید', 'O'),\n",
            " ('قدردان', 'O'),\n",
            " ('انقلاب', 'B_EVE'),\n",
            " ('اسلامی', 'I_EVE'),\n",
            " ('ایران', 'I_EVE'),\n",
            " ('بود', 'O'),\n",
            " ('و', 'O'),\n",
            " ('به', 'O'),\n",
            " ('همین', 'O'),\n",
            " ('دلیل', 'O'),\n",
            " ('،', 'O'),\n",
            " ('باید', 'O'),\n",
            " ('توگ', 'O'),\n",
            " ('##ه', 'O'),\n",
            " ('بیشتری', 'O'),\n",
            " ('به', 'O'),\n",
            " ('موفقیت', 'O'),\n",
            " ('های', 'O'),\n",
            " ('به', 'O'),\n",
            " ('دست', 'O'),\n",
            " ('امده', 'O'),\n",
            " ('در', 'O'),\n",
            " ('طول', 'O'),\n",
            " ('دوران', 'O'),\n",
            " ('انقلاب', 'B_EVE'),\n",
            " ('اسلامی', 'I_EVE'),\n",
            " ('داشت', 'O'),\n",
            " ('.', 'O'),\n",
            " ('حجت', 'O'),\n",
            " ('الاسلام', 'O'),\n",
            " ('و', 'O'),\n",
            " ('المسلمین', 'O'),\n",
            " ('سید', 'B_PER'),\n",
            " ('محمد', 'I_PER'),\n",
            " ('علی', 'I_PER'),\n",
            " ('ال', 'I_PER'),\n",
            " ('هاشم', 'I_PER'),\n",
            " ('ادامه', 'O'),\n",
            " ('داد', 'O'),\n",
            " (':', 'O'),\n",
            " ('سرعت', 'O'),\n",
            " ('پیشرفت', 'O'),\n",
            " ('علم', 'O'),\n",
            " ('در', 'O'),\n",
            " ('ایران', 'B_LOC'),\n",
            " ('بعد', 'O'),\n",
            " ('از', 'O'),\n",
            " ('انقلاب', 'B_EVE'),\n",
            " ('اسلامی', 'I_EVE'),\n",
            " ('و', 'O'),\n",
            " ('هم', 'O'),\n",
            " ('اکنون', 'O'),\n",
            " ('،', 'O'),\n",
            " ('۱۱', 'O'),\n",
            " ('برابر', 'O'),\n",
            " ('دنیاست', 'O'),\n",
            " ('؛', 'O'),\n",
            " ('امروزه', 'O'),\n",
            " ('جمهوری', 'B_LOC'),\n",
            " ('اسلامی', 'I_LOC'),\n",
            " ('ایران', 'I_LOC'),\n",
            " ('،', 'O'),\n",
            " ('هشتمین', 'O'),\n",
            " ('کشور', 'O'),\n",
            " ('تولید', 'O'),\n",
            " ('کننده', 'O'),\n",
            " ('اورانیوم', 'O'),\n",
            " ('۲۰', 'O'),\n",
            " ('درصد', 'O'),\n",
            " ('جهان', 'O'),\n",
            " ('است', 'O')]\n"
          ]
        }
      ]
    }
  ],
  "metadata": {
    "kernelspec": {
      "display_name": "Python 3.8.10 ('nlp_env': venv)",
      "language": "python",
      "name": "python3"
    },
    "language_info": {
      "codemirror_mode": {
        "name": "ipython",
        "version": 3
      },
      "file_extension": ".py",
      "mimetype": "text/x-python",
      "name": "python",
      "nbconvert_exporter": "python",
      "pygments_lexer": "ipython3",
      "version": "3.8.10"
    },
    "orig_nbformat": 4,
    "vscode": {
      "interpreter": {
        "hash": "bd029c74b3931211e259a6407e9cb636f4133dd1d46c169023899434202d8e33"
      }
    },
    "colab": {
      "name": "BERT_NER.ipynb",
      "provenance": [],
      "collapsed_sections": [
        "xILwINHKQLmi",
        "d2UmVH0UQ9qo"
      ]
    },
    "accelerator": "GPU",
    "gpuClass": "standard"
  },
  "nbformat": 4,
  "nbformat_minor": 0
}