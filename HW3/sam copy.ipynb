{
 "cells": [
  {
   "cell_type": "code",
   "execution_count": 20,
   "metadata": {
    "pycharm": {
     "name": "#%%\n"
    }
   },
   "outputs": [],
   "source": [
    "from transformers import pipeline, BertTokenizer,BertForMaskedLM\n",
    "from transformers.pipelines.fill_mask import FillMaskPipeline\n",
    "import torch"
   ]
  },
  {
   "cell_type": "code",
   "execution_count": 21,
   "metadata": {
    "pycharm": {
     "name": "#%%\n"
    }
   },
   "outputs": [
    {
     "name": "stdout",
     "output_type": "stream",
     "text": [
      "Torch Device: cuda\n"
     ]
    },
    {
     "name": "stderr",
     "output_type": "stream",
     "text": [
      "Some weights of the model checkpoint at HooshvareLab/bert-fa-base-uncased were not used when initializing BertForMaskedLM: ['cls.seq_relationship.weight', 'cls.seq_relationship.bias']\n",
      "- This IS expected if you are initializing BertForMaskedLM from the checkpoint of a model trained on another task or with another architecture (e.g. initializing a BertForSequenceClassification model from a BertForPreTraining model).\n",
      "- This IS NOT expected if you are initializing BertForMaskedLM from the checkpoint of a model that you expect to be exactly identical (initializing a BertForSequenceClassification model from a BertForSequenceClassification model).\n"
     ]
    }
   ],
   "source": [
    "torch_device = 'cuda' if torch.cuda.is_available() else 'cpu'\n",
    "\n",
    "print(f\"Torch Device: {torch_device}\")\n",
    "\n",
    "language = 'fa'\n",
    "\n",
    "# EN\n",
    "# model_name = \"bert-large-uncased\"\n",
    "# model_name = \"bert-base-uncased\"\n",
    "\n",
    "# FA\n",
    "## Lite BERT\n",
    "# model_name = \"HooshvareLab/albert-fa-zwnj-base-v2\"\n",
    "\n",
    "## BERT \n",
    "model_name = \"HooshvareLab/bert-fa-base-uncased\"\n",
    "\n",
    "tokenizer = BertTokenizer.from_pretrained(model_name)\n",
    "model = BertForMaskedLM.from_pretrained(model_name)\n",
    "\n",
    "if language == 'en':\n",
    "    model = model.to(torch_device)\n",
    "\n",
    "unmasker = pipeline(\"fill-mask\", model=model, tokenizer=tokenizer)"
   ]
  },
  {
   "cell_type": "code",
   "execution_count": 22,
   "metadata": {},
   "outputs": [
    {
     "data": {
      "text/plain": [
       "transformers.models.bert.tokenization_bert.BertTokenizer"
      ]
     },
     "execution_count": 22,
     "metadata": {},
     "output_type": "execute_result"
    }
   ],
   "source": [
    "type(tokenizer)"
   ]
  },
  {
   "cell_type": "code",
   "execution_count": 23,
   "metadata": {
    "pycharm": {
     "name": "#%%\n"
    }
   },
   "outputs": [
    {
     "data": {
      "text/plain": [
       "[{'score': 0.9993815422058105,\n",
       "  'token': 1350,\n",
       "  'token_str': '؟',\n",
       "  'sequence': 'اهل کدام کشور هستی ؟'},\n",
       " {'score': 0.0004375329881440848,\n",
       "  'token': 1012,\n",
       "  'token_str': '.',\n",
       "  'sequence': 'اهل کدام کشور هستی.'},\n",
       " {'score': 0.00017481943359598517,\n",
       "  'token': 1001,\n",
       "  'token_str': '!',\n",
       "  'sequence': 'اهل کدام کشور هستی!'},\n",
       " {'score': 1.2553665555969928e-06,\n",
       "  'token': 1876,\n",
       "  'token_str': '…',\n",
       "  'sequence': 'اهل کدام کشور هستی …'},\n",
       " {'score': 1.1527374681463698e-06,\n",
       "  'token': 1349,\n",
       "  'token_str': '؛',\n",
       "  'sequence': 'اهل کدام کشور هستی ؛'}]"
      ]
     },
     "execution_count": 23,
     "metadata": {},
     "output_type": "execute_result"
    }
   ],
   "source": [
    "# text = \"The capital of Iran is [MASK].\"\n",
    "# text = \"Yesterday, I played [MASK] in the [MASK].\"\n",
    "# text = \"I'm studying [MASK] learning in my computer class.\"\n",
    "# text = \"I'm a very [MASK] player in football.\"\n",
    "# text = \"He drived a [MASK].\"\n",
    "# text = \"I love playing [MASK].\"\n",
    "# text = \"I am [MASK] english very [MASK]. \"\n",
    "\n",
    "text = \"امروز در استادیوم آزادی، تیم ملی [MASK] ایران و سوریه مسابقه می‌دهند.\"\n",
    "text = \"امروز در استادیوم آزادی [ماسک] ملی ایران و روسیه مسایقه می‌دهند.\"\n",
    "text = \"پس از سال‌ها تلاش رازی موفق به [ماسک] الکل شد. این دانشمند تیرانی باعث افتخار در تاریخ [ماسک] است.\"\n",
    "text = \"اهل کدام کشور هستی[ماسک]\"\n",
    "text = text.replace(\"[ماسک]\", \"[MASK]\")\n",
    "\n",
    "unmasker(text, )\n"
   ]
  },
  {
   "cell_type": "markdown",
   "metadata": {},
   "source": [
    "# Stanza\n",
    "\n",
    "spaCy's tokenization is non-destructive, so it always represents the original input text and never adds or deletes anything. This is kind of a core principle of the Doc object: you should always be able to reconstruct and reproduce the original input text.\n",
    "\n",
    "## Setup"
   ]
  },
  {
   "cell_type": "code",
   "execution_count": 24,
   "metadata": {},
   "outputs": [],
   "source": [
    "import stanza\n",
    "import spacy\n",
    "import spacy_stanza"
   ]
  },
  {
   "cell_type": "code",
   "execution_count": 25,
   "metadata": {},
   "outputs": [
    {
     "name": "stderr",
     "output_type": "stream",
     "text": [
      "2022-05-28 18:25:55 INFO: Installing CoreNLP package into /home/ahur4/stanza_corenlp\n"
     ]
    },
    {
     "data": {
      "application/vnd.jupyter.widget-view+json": {
       "model_id": "6b80416d2dca48119546867a51d83086",
       "version_major": 2,
       "version_minor": 0
      },
      "text/plain": [
       "Downloading https://huggingface.co/stanfordnlp/CoreNLP/resolve/main/stanford-corenlp-latest.zip:   0%|        …"
      ]
     },
     "metadata": {},
     "output_type": "display_data"
    }
   ],
   "source": [
    "stanza.install_corenlp()\n",
    "stanza.download('fa')\n",
    "stanza_nlp = spacy_stanza.load_pipeline(\"fa\")"
   ]
  },
  {
   "cell_type": "code",
   "execution_count": null,
   "metadata": {},
   "outputs": [
    {
     "data": {
      "text/plain": [
       "0"
      ]
     },
     "execution_count": 17,
     "metadata": {},
     "output_type": "execute_result"
    }
   ],
   "source": [
    "len(list(stanza_nlp.vocab.strings))"
   ]
  },
  {
   "cell_type": "code",
   "execution_count": null,
   "metadata": {},
   "outputs": [],
   "source": [
    "# tokens = tokenizer.convert_ids_to_tokens(tokenizer(text)['input_ids'])\n",
    "# tokens\n",
    "# tokenizer.convert_tokens_to_string(tokens)\n",
    "\n",
    "from spacy.tokens.token import Token\n",
    "from spacy.tokens.doc import Doc\n",
    "\n",
    "text = \"پس از سال‌ها تلاش رازی موفق به کسف الکل شد. این دانشمند تیرانی باعث افتخار در تاریخ کور است.\"\n",
    "doc = stanza_nlp(text)\n",
    "\n",
    "\n",
    "# for index in range(len(doc)):\n",
    "#     token_str: Token = doc[index]\n",
    "#     # print(f\"{index}: {token_str.text}\")\n",
    "    \n",
    "    \n",
    "    \n",
    "#     print(doc)\n",
    "#     break\n",
    "    \n",
    "\n",
    "\n"
   ]
  },
  {
   "cell_type": "code",
   "execution_count": null,
   "metadata": {},
   "outputs": [],
   "source": []
  },
  {
   "cell_type": "code",
   "execution_count": null,
   "metadata": {},
   "outputs": [
    {
     "data": {
      "text/plain": [
       "708201"
      ]
     },
     "execution_count": 19,
     "metadata": {},
     "output_type": "execute_result"
    }
   ],
   "source": [
    "nlp = spacy.load(\"en_core_web_lg\")\n",
    "len(list(nlp.vocab.strings))"
   ]
  }
 ],
 "metadata": {
  "interpreter": {
   "hash": "34daa296ffe99e8a66e159d01b1dfeb9a87967b5cca691fda43c054f03617153"
  },
  "kernelspec": {
   "display_name": "Python 3.10.4 ('data_env')",
   "language": "python",
   "name": "python3"
  },
  "language_info": {
   "codemirror_mode": {
    "name": "ipython",
    "version": 3
   },
   "file_extension": ".py",
   "mimetype": "text/x-python",
   "name": "python",
   "nbconvert_exporter": "python",
   "pygments_lexer": "ipython3",
   "version": "3.10.4"
  },
  "orig_nbformat": 4
 },
 "nbformat": 4,
 "nbformat_minor": 2
}
