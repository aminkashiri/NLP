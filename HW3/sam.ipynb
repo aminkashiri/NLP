{
 "cells": [
  {
   "cell_type": "code",
   "execution_count": 23,
   "metadata": {
    "pycharm": {
     "name": "#%%\n"
    }
   },
   "outputs": [],
   "source": [
    "from transformers import pipeline"
   ]
  },
  {
   "cell_type": "code",
   "execution_count": 24,
   "metadata": {
    "pycharm": {
     "name": "#%%\n"
    }
   },
   "outputs": [
    {
     "name": "stderr",
     "output_type": "stream",
     "text": [
      "Some weights of the model checkpoint at HooshvareLab/bert-fa-base-uncased were not used when initializing BertForMaskedLM: ['cls.seq_relationship.weight', 'cls.seq_relationship.bias']\n",
      "- This IS expected if you are initializing BertForMaskedLM from the checkpoint of a model trained on another task or with another architecture (e.g. initializing a BertForSequenceClassification model from a BertForPreTraining model).\n",
      "- This IS NOT expected if you are initializing BertForMaskedLM from the checkpoint of a model that you expect to be exactly identical (initializing a BertForSequenceClassification model from a BertForSequenceClassification model).\n"
     ]
    }
   ],
   "source": [
    "# EN\n",
    "model_name = \"bert-large-uncased\"\n",
    "model_name = \"bert-base-uncased\"\n",
    "\n",
    "# FA\n",
    "## Lite BERT\n",
    "model_name = \"HooshvareLab/albert-fa-zwnj-base-v2\"\n",
    "\n",
    "## BERT \n",
    "model_name = \"HooshvareLab/bert-fa-base-uncased\"\n",
    "\n",
    "unmasker = pipeline(\"fill-mask\", model=model_name, tokenizer=model_name)"
   ]
  },
  {
   "cell_type": "code",
   "execution_count": 7,
   "metadata": {
    "pycharm": {
     "name": "#%%\n"
    }
   },
   "outputs": [
    {
     "data": {
      "text/plain": [
       "[{'score': 0.9993815422058105,\n",
       "  'token': 1350,\n",
       "  'token_str': '؟',\n",
       "  'sequence': 'اهل کدام کشور هستی ؟'},\n",
       " {'score': 0.0004375329881440848,\n",
       "  'token': 1012,\n",
       "  'token_str': '.',\n",
       "  'sequence': 'اهل کدام کشور هستی.'},\n",
       " {'score': 0.00017481943359598517,\n",
       "  'token': 1001,\n",
       "  'token_str': '!',\n",
       "  'sequence': 'اهل کدام کشور هستی!'},\n",
       " {'score': 1.2553665555969928e-06,\n",
       "  'token': 1876,\n",
       "  'token_str': '…',\n",
       "  'sequence': 'اهل کدام کشور هستی …'},\n",
       " {'score': 1.1527374681463698e-06,\n",
       "  'token': 1349,\n",
       "  'token_str': '؛',\n",
       "  'sequence': 'اهل کدام کشور هستی ؛'}]"
      ]
     },
     "execution_count": 7,
     "metadata": {},
     "output_type": "execute_result"
    }
   ],
   "source": [
    "text = \"The capital of Iran is [MASK].\"\n",
    "text = \"Yesterday, I played [MASK] in the [MASK].\"\n",
    "text = \"I'm studying [MASK] learning in my computer class.\"\n",
    "text = \"I'm a very [MASK] player in football.\"\n",
    "text = \"He drived a [MASK].\"\n",
    "text = \"I love playing [MASK].\"\n",
    "text = \"I am [MASK] english.\"\n",
    "\n",
    "# text = \"امروز در استادیوم آزادی، تیم ملی [MASK] ایران و سوریه مسابقه می‌دهند.\"\n",
    "# text = \"امروز در استادیوم آزادی [ماسک] ملی ایران و روسیه مسایقه می‌دهند.\"\n",
    "# text = \"پس از سال‌ها تلاش رازی موفق به [ماسک] الکل شد. این دانشمند تیرانی باعث افتخار در تاریخ [ماسک] است.\"\n",
    "text = \"اهل کدام کشور هستی[ماسک]\"\n",
    "\n",
    "text = text.replace(\"[ماسک]\", \"[MASK]\")\n",
    "\n",
    "unmasker(text)"
   ]
  }
 ],
 "metadata": {
  "interpreter": {
   "hash": "34daa296ffe99e8a66e159d01b1dfeb9a87967b5cca691fda43c054f03617153"
  },
  "kernelspec": {
   "display_name": "Python 3.10.4 ('data_env')",
   "language": "python",
   "name": "python3"
  },
  "language_info": {
   "codemirror_mode": {
    "name": "ipython",
    "version": 3
   },
   "file_extension": ".py",
   "mimetype": "text/x-python",
   "name": "python",
   "nbconvert_exporter": "python",
   "pygments_lexer": "ipython3",
   "version": "3.10.4"
  },
  "orig_nbformat": 4
 },
 "nbformat": 4,
 "nbformat_minor": 2
}
